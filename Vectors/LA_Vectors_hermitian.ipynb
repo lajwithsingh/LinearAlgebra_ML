{
 "cells": [
  {
   "cell_type": "markdown",
   "metadata": {},
   "source": [
    "<h1>Hermitian Transpose</h1>\n",
    "<h3>Let's First Understand Conjugate</h3>\n",
    "<p>Idea of Conjugate is to flip the sign of the imaginary part of the complex number withouth changing the real part<p>\n",
    "<img src=\"https://i.ibb.co/0XvrbDt/1.png\"/>\n",
    "<h3>Now Let's See Hermitian Transpose</h3>\n",
    "<p>It is denoted by Capital Letter H or denoted with an asterisk (*) in place of T normally, Hermitian Tranpose is like regular transpose only difference is that for any complex number the sign of imaginary component is flipped</p>\n",
    "<img src=\"https://i.ibb.co/cC7mn1s/2.png\"/>\n",
    "<h3>Need of Hermitian Transpose</h3>\n",
    "<img src=\"https://i.ibb.co/RTq92Fy/3.png\" />\n",
    "\n",
    "<p>In the above Image the line from origin to complex number is treated as a vector so to calculate the magnitude of vector first we do with ordinary dot product we don't get correct result and the output doesn't Make sense  🙄</p>\n",
    "<p>But the time when we use Hermitian Tranpose we get the result as 5 which do make's sense 😎 as by using pythagorian triplet we are going to get same result</p>\n"
   ]
  },
  {
   "cell_type": "markdown",
   "metadata": {},
   "source": [
    "**Implementation in Code**"
   ]
  },
  {
   "cell_type": "code",
   "execution_count": 9,
   "metadata": {},
   "outputs": [
    {
     "name": "stdout",
     "output_type": "stream",
     "text": [
      "Linear Algebra Direct Magnitude : 5.0\n",
      "Hermitian Transpose Magnitude Calculation : (25+0j)\n",
      "[16.89+0.j 86.  +0.j  2.  +0.j -3.  +0.j  9.  +0.j]\n",
      "[16.89-0.j 86.  -0.j  2.  -0.j -3.  -0.j  9.  -0.j]\n"
     ]
    }
   ],
   "source": [
    "#importing the libraries\n",
    "import numpy as np  \n",
    "\n",
    "#complex number libraries\n",
    "z = complex(3, 4)\n",
    "\n",
    "norm = np.linalg.norm(z)\n",
    "print(f\"Linear Algebra Direct Magnitude : {norm}\")\n",
    "\n",
    "hermit = np.transpose(np.conjugate(z)) * z\n",
    "print(f\"Hermitian Transpose Magnitude Calculation : {hermit}\") \n",
    "\n",
    "#complex vector\n",
    "v = np.array([16.89 , 86 , 2 , -3,  9], dtype=np.complex64)\n",
    "print(np.transpose(v))\n",
    "print(np.transpose(np.conjugate(v)))"
   ]
  }
 ],
 "metadata": {
  "interpreter": {
   "hash": "964c336549db2cbb3bd5cebfe9145b76bc498789d9180131f599a99692befa91"
  },
  "kernelspec": {
   "display_name": "Python 3.10.1 64-bit",
   "language": "python",
   "name": "python3"
  },
  "language_info": {
   "codemirror_mode": {
    "name": "ipython",
    "version": 3
   },
   "file_extension": ".py",
   "mimetype": "text/x-python",
   "name": "python",
   "nbconvert_exporter": "python",
   "pygments_lexer": "ipython3",
   "version": "3.10.1"
  },
  "orig_nbformat": 4
 },
 "nbformat": 4,
 "nbformat_minor": 2
}

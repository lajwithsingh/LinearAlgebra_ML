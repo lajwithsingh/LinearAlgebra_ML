{
 "cells": [
  {
   "cell_type": "markdown",
   "metadata": {},
   "source": [
    "\n",
    "<h1>Vector Length</h1>\n",
    "<p>In This Notebook We Will Take a Closer look on how to calulate lenght of the Vector also known as magnitude or norm of vector.</p>\n",
    "<h3>Formula for Vector Length</h3>\n",
    "<img src=\"https://i.ibb.co/PjgQrWy/1.png\" alt=\"1\" border=\"0\">\n",
    "<h3>Geomteric Interpretaion</h3>\n",
    "<img src=\"https://i.ibb.co/hZrKXrK/2.png\" alt=\"2\" border=\"0\">\n",
    "<h4>Algebraic Interpretation</h4>\n",
    "<img src=\"https://i.ibb.co/m67n2Yq/3.png\" alt=\"3\" border=\"0\">\n",
    "\n",
    "<p>Here We Just have a Vector in 2 dimension but we can compute Vector length for N dimensions</p>"
   ]
  },
  {
   "cell_type": "markdown",
   "metadata": {},
   "source": [
    "**Import the libraries**"
   ]
  },
  {
   "cell_type": "code",
   "execution_count": 2,
   "metadata": {},
   "outputs": [],
   "source": [
    "import numpy as np\n",
    "import matplotlib.pyplot as plt\n",
    "from mpl_toolkits.mplot3d import Axes3D"
   ]
  },
  {
   "cell_type": "markdown",
   "metadata": {},
   "source": [
    "**Calculating Vector Length in Python**"
   ]
  },
  {
   "cell_type": "code",
   "execution_count": 8,
   "metadata": {},
   "outputs": [
    {
     "name": "stdout",
     "output_type": "stream",
     "text": [
      "Dot Product : 4.9822489565540415\n",
      "Vector Length : 2.2320951943306633\n"
     ]
    }
   ],
   "source": [
    "#Generating A random Vector\n",
    "n = 10\n",
    "v = np.random.rand(n)\n",
    "\n",
    "dot_product = np.dot(np.transpose(v), v)\n",
    "vector_length = np.sqrt(dot_product)\n",
    "\n",
    "print(\"Dot Product : {}\\nVector Length : {}\".format(dot_product, vector_length))"
   ]
  },
  {
   "cell_type": "code",
   "execution_count": 7,
   "metadata": {},
   "outputs": [
    {
     "name": "stdout",
     "output_type": "stream",
     "text": [
      "Dot Product : 13\n",
      "Vector Length : 3.605551275463989\n"
     ]
    }
   ],
   "source": [
    "#Manual Example\n",
    "v = np.array([2, 3], dtype = np.int32)\n",
    "\n",
    "dot_product = np.dot(np.transpose(v), v)\n",
    "vector_length = np.sqrt(dot_product)\n",
    "\n",
    "print(\"Dot Product : {}\\nVector Length : {}\".format(dot_product, vector_length))"
   ]
  }
 ],
 "metadata": {
  "interpreter": {
   "hash": "964c336549db2cbb3bd5cebfe9145b76bc498789d9180131f599a99692befa91"
  },
  "kernelspec": {
   "display_name": "Python 3.10.1 64-bit",
   "language": "python",
   "name": "python3"
  },
  "language_info": {
   "codemirror_mode": {
    "name": "ipython",
    "version": 3
   },
   "file_extension": ".py",
   "mimetype": "text/x-python",
   "name": "python",
   "nbconvert_exporter": "python",
   "pygments_lexer": "ipython3",
   "version": "3.10.1"
  },
  "orig_nbformat": 4
 },
 "nbformat": 4,
 "nbformat_minor": 2
}

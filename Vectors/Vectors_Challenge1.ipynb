{
 "cells": [
  {
   "cell_type": "markdown",
   "metadata": {},
   "source": [
    "<h1>Challenge 1 Vectors Section</h1>\n",
    "<ol>\n",
    "<li>Create A 4 X 6 Matrix of random numbers</li>\n",
    "<li>Use Dot Products to compute dot products between corresponding columns</li>\n",
    "<ul>"
   ]
  },
  {
   "cell_type": "markdown",
   "metadata": {},
   "source": [
    "**Importing the Libraries**"
   ]
  },
  {
   "cell_type": "code",
   "execution_count": 1,
   "metadata": {},
   "outputs": [],
   "source": [
    "import numpy as np\n",
    "import matplotlib.pyplot as plt\n",
    "from mpl_toolkits.mplot3d import Axes3D"
   ]
  },
  {
   "cell_type": "code",
   "execution_count": 16,
   "metadata": {},
   "outputs": [
    {
     "name": "stdout",
     "output_type": "stream",
     "text": [
      "Matrix 1 : \n",
      "[[ 7.03029775e-01 -5.14880238e-01 -1.22682704e+00  3.82685344e-01\n",
      "  -2.70277249e-01  1.98717331e+00]\n",
      " [-2.80677624e-01 -1.23926932e-01 -6.74541690e-01  1.00730452e+00\n",
      "   2.98504545e-01  1.68045743e-01]\n",
      " [ 1.75702398e-01 -6.02264605e-01  2.54729338e-01 -7.55486447e-01\n",
      "  -2.26017240e-01  1.33929936e+00]\n",
      " [ 1.18211346e+00  2.44297200e-01 -8.89258975e-02 -1.98787317e-01\n",
      "   1.97876784e-04  1.50289623e+00]]\n",
      "\n",
      "\n",
      "Matrix 2 : \n",
      "[[-1.33499403 -0.46626898 -0.64730608 -0.54701835 -1.02746672 -0.23094972]\n",
      " [-0.11792717 -0.17123797  0.21651072 -1.27024525  2.13721407 -0.82427887]\n",
      " [ 0.62334746 -1.55665679  0.47014477 -1.50856917  1.84108667 -0.22666735]\n",
      " [ 0.21350517 -0.07319609 -0.81876751  1.9376836   0.11303224  1.39979994]]\n",
      "\n",
      "The Dot Products Are : \n",
      "[-0.54353005  1.18093136  0.8406564  -0.73434305  0.49957403  1.20272494]\n"
     ]
    }
   ],
   "source": [
    "#generate a random matrix \n",
    "\n",
    "#1st Sub Challenge\n",
    "matrix1 = np.random.randn(4,6)\n",
    "matrix2 = np.random.randn(4,6)\n",
    "\n",
    "print(\"Matrix 1 : \\n{}\".format(matrix1))\n",
    "print(\"\\n\")\n",
    "print(\"Matrix 2 : \\n{}\".format(matrix2))\n",
    "\n",
    "#Empty list for storing Dot Products\n",
    "dps = np.zeros(6)\n",
    "\n",
    "#2nd Sub Challenge\n",
    "for i in range(6):\n",
    "    dps[i] = np.dot(matrix1[:,i],matrix2[:,i])\n",
    "\n",
    "print(\"\\nThe Dot Products Are : \\n{}\".format(dps))"
   ]
  },
  {
   "cell_type": "code",
   "execution_count": null,
   "metadata": {},
   "outputs": [],
   "source": []
  }
 ],
 "metadata": {
  "interpreter": {
   "hash": "964c336549db2cbb3bd5cebfe9145b76bc498789d9180131f599a99692befa91"
  },
  "kernelspec": {
   "display_name": "Python 3.10.1 64-bit",
   "language": "python",
   "name": "python3"
  },
  "language_info": {
   "codemirror_mode": {
    "name": "ipython",
    "version": 3
   },
   "file_extension": ".py",
   "mimetype": "text/x-python",
   "name": "python",
   "nbconvert_exporter": "python",
   "pygments_lexer": "ipython3",
   "version": "3.10.1"
  },
  "orig_nbformat": 4
 },
 "nbformat": 4,
 "nbformat_minor": 2
}

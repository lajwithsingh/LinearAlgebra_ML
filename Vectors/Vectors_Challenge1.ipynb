{
 "cells": [
  {
   "cell_type": "markdown",
   "metadata": {},
   "source": [
    "<h1>Challenge 1 Vectors Section</h1>\n",
    "<ol>\n",
    "<li>Create A 4 X 6 Matrix of random numbers</li>\n",
    "<li>Use Dot Products to compute dot products between corresponding columns</li>\n",
    "<ul>"
   ]
  },
  {
   "cell_type": "markdown",
   "metadata": {},
   "source": [
    "**Importing the Libraries**"
   ]
  },
  {
   "cell_type": "code",
   "execution_count": 1,
   "metadata": {},
   "outputs": [],
   "source": [
    "import numpy as np\n",
    "import matplotlib.pyplot as plt\n",
    "from mpl_toolkits.mplot3d import Axes3D"
   ]
  },
  {
   "cell_type": "code",
   "execution_count": 8,
   "metadata": {},
   "outputs": [
    {
     "name": "stdout",
     "output_type": "stream",
     "text": [
      "The Dot Products Are : \n",
      "[13.644119038407501, 2.768386986616044, -1.5038500036145002, -0.040505649557369454, 2.768386986616044, 12.635363812819964, -2.3305022284273518, -0.3940244332163163, -1.5038500036145002, -2.3305022284273518, 6.852613847484659, 1.5431778172676394, -0.040505649557369454, -0.3940244332163163, 1.5431778172676394, 1.4269725063133485]\n"
     ]
    }
   ],
   "source": [
    "#generate a random matrix \n",
    "\n",
    "#1st Sub Challenge\n",
    "matrix = np.random.randn(4,6)\n",
    "\n",
    "#Empty list for storing Dot Products\n",
    "dot_products = []\n",
    "\n",
    "#2nd Sub Challenge\n",
    "for i in range(4):\n",
    "    for j in range(4):\n",
    "        result = np.dot(matrix[i],matrix[j])\n",
    "        dot_products.append(result)\n",
    "\n",
    "print(\"The Dot Products Are : \\n{}\".format(dot_products))"
   ]
  }
 ],
 "metadata": {
  "interpreter": {
   "hash": "964c336549db2cbb3bd5cebfe9145b76bc498789d9180131f599a99692befa91"
  },
  "kernelspec": {
   "display_name": "Python 3.10.1 64-bit",
   "language": "python",
   "name": "python3"
  },
  "language_info": {
   "codemirror_mode": {
    "name": "ipython",
    "version": 3
   },
   "file_extension": ".py",
   "mimetype": "text/x-python",
   "name": "python",
   "nbconvert_exporter": "python",
   "pygments_lexer": "ipython3",
   "version": "3.10.1"
  },
  "orig_nbformat": 4
 },
 "nbformat": 4,
 "nbformat_minor": 2
}

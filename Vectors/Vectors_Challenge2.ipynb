{
 "cells": [
  {
   "cell_type": "markdown",
   "metadata": {},
   "source": [
    "<h1>Challenge 2 Vectors Section</h1>\n",
    "<p>Challenge 2 is to Check Whether Dot Product of Two Vectors is Commutative or Not</p>\n",
    "<ol>\n",
    "<li>Generate two 100 elements randow row vectors, compute dot product a with b, b with a</li>\n",
    "<li>Generate two 2 elements integer row vectors, repeat</li>\n",
    "</ol>"
   ]
  },
  {
   "cell_type": "markdown",
   "metadata": {},
   "source": [
    "**Import Libraries**"
   ]
  },
  {
   "cell_type": "code",
   "execution_count": 1,
   "metadata": {},
   "outputs": [],
   "source": [
    "import numpy as np\n",
    "import matplotlib.pyplot as plt\n",
    "from mpl_toolkits.mplot3d import Axes3D"
   ]
  },
  {
   "cell_type": "code",
   "execution_count": 10,
   "metadata": {},
   "outputs": [
    {
     "name": "stdout",
     "output_type": "stream",
     "text": [
      "[7.323139980803439, 7.323139980803439]\n"
     ]
    }
   ],
   "source": [
    "#solving Challenge 1\n",
    "\n",
    "#generate two random elements vectors\n",
    "n = 100\n",
    "a = np.random.randn(n)\n",
    "b = np.random.randn(n)\n",
    "\n",
    "result_1 = np.dot(a, b)\n",
    "result_2 = np.dot(b, a)\n",
    "\n",
    "print([result_1, result_2])"
   ]
  },
  {
   "cell_type": "code",
   "execution_count": 16,
   "metadata": {},
   "outputs": [
    {
     "name": "stdout",
     "output_type": "stream",
     "text": [
      "26 26\n"
     ]
    }
   ],
   "source": [
    "#solving challenge 2\n",
    "\n",
    "#generate two 2 integer vectors\n",
    "v = [2, 4]\n",
    "w = [3, 5]\n",
    "\n",
    "print(np.dot(v, w), np.dot(w, v))"
   ]
  }
 ],
 "metadata": {
  "interpreter": {
   "hash": "964c336549db2cbb3bd5cebfe9145b76bc498789d9180131f599a99692befa91"
  },
  "kernelspec": {
   "display_name": "Python 3.10.1 64-bit",
   "language": "python",
   "name": "python3"
  },
  "language_info": {
   "codemirror_mode": {
    "name": "ipython",
    "version": 3
   },
   "file_extension": ".py",
   "mimetype": "text/x-python",
   "name": "python",
   "nbconvert_exporter": "python",
   "pygments_lexer": "ipython3",
   "version": "3.10.1"
  },
  "orig_nbformat": 4
 },
 "nbformat": 4,
 "nbformat_minor": 2
}

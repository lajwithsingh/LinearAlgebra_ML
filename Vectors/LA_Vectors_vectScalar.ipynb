{
 "cells": [
  {
   "cell_type": "markdown",
   "metadata": {},
   "source": [
    "<h1>Vector Scalar Multiplication</h1>\n",
    "\n",
    "\n",
    "\n",
    "<img src=\"https://i.ibb.co/9bnhkMt/scalar-multiplication.png\" alt=\"scalar-multiplication\" border=\"0\">\n",
    "<h3>Let's Understand Scalar First</h3>\n",
    "<p>A Scalar is Just a Number on It's Own. Just a Fancy Name Given To a Number</p>\n",
    "<p>The geometric interpretation of vector scalar multiplication is to stretch or shrink the vector by the\n",
    "amount specified by the scalar. And it doesn't change the direction of this vector.That's why this is called a scalar.\n",
    "The number scales or stretches this vector.\n",
    "</p>\n",
    "<img src=\"https://i.ibb.co/4ttPrF7/Capture2.png\" alt=\"Capture2\" border=\"0\">\n",
    "\n",
    "<p>When Scalar is greater than 1 then the resulting vector, So the Scalar Type, The Scaled Version of The Vector That Would be smaller than the originial One</p>\n",
    "\n",
    "<p>When with lambda or the scalar is in between zero and one, then the resulting vector points in the same</p>\n",
    "\n",
    "<p>Finally, when the scalar is negative, when it's less than zero, then the resulting scaled version\n",
    "of the vector kind of spins around and points in the other way.</p>\n",
    "\n",
    "<i>Scalar Never Changes The Direction Of Vector This is Important to Know</i>\n",
    "<i>But When the Scalar is Less than Zero that is when It is Negative Is spins around so some people may argue that it is pointing to Negative Direction What Important here is to note that the line is in 1 Dimensional Subspace that goes infinitely long in both direction and in linear algebraic sense this vector is not actually pointing to different direction with regards to 1 Dimensional Subspace<i>"
   ]
  },
  {
   "cell_type": "markdown",
   "metadata": {},
   "source": [
    "**Importing the Libraries**"
   ]
  },
  {
   "cell_type": "code",
   "execution_count": 1,
   "metadata": {},
   "outputs": [],
   "source": [
    "import numpy as np \n",
    "import matplotlib.pyplot as plt \n",
    "from mpl_toolkits.mplot3d import Axes3D"
   ]
  },
  {
   "cell_type": "markdown",
   "metadata": {},
   "source": [
    "**Vector Scalar Multiplication**"
   ]
  },
  {
   "cell_type": "code",
   "execution_count": 9,
   "metadata": {},
   "outputs": [
    {
     "data": {
      "image/png": "[encoded data removed]",
      "text/plain": [
       "<Figure size 576x576 with 1 Axes>"
      ]
     },
     "metadata": {
      "needs_background": "light"
     },
     "output_type": "display_data"
    }
   ],
   "source": [
    "#vector and scalar\n",
    "v1 = np.array([3, -1])\n",
    "l = -.5\n",
    "\n",
    "#scalar modulated vector\n",
    "v1m = v1 * l\n",
    "\n",
    "#ploting them \n",
    "fig = plt.figure(figsize = (8,8))\n",
    "plt.plot([0,v1[0]],[0,v1[1]],'b',label = \"v1\")\n",
    "plt.plot([0,v1m[0]] ,[0,v1m[1]],'r--',label=\"lambda v1\")\n",
    "\n",
    "\n",
    "plt.plot([-4, 4],[0, 0],'k--')\n",
    "plt.plot([0, 0],[-4, 4],'k--')\n",
    "\n",
    "axlim = max([abs(max(v1)), abs(max(v1m))]) * 1.5\n",
    "\n",
    "plt.legend()\n",
    "plt.axis(\"square\")\n",
    "plt.axis((-axlim, axlim, axlim, -axlim))\n",
    "plt.grid()\n",
    "plt.show()"
   ]
  }
 ],
 "metadata": {
  "interpreter": {
   "hash": "964c336549db2cbb3bd5cebfe9145b76bc498789d9180131f599a99692befa91"
  },
  "kernelspec": {
   "display_name": "Python 3.10.1 64-bit",
   "language": "python",
   "name": "python3"
  },
  "language_info": {
   "codemirror_mode": {
    "name": "ipython",
    "version": 3
   },
   "file_extension": ".py",
   "mimetype": "text/x-python",
   "name": "python",
   "nbconvert_exporter": "python",
   "pygments_lexer": "ipython3",
   "version": "3.10.1"
  },
  "orig_nbformat": 4
 },
 "nbformat": 4,
 "nbformat_minor": 2
}

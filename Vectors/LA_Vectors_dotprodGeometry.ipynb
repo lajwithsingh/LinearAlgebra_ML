{
 "cells": [
  {
   "cell_type": "markdown",
   "metadata": {},
   "source": [
    "<h1>The Geometric Interpretation of Vector Dot Product</h1>\n",
    "<p>In this notebook we are going to derive The Formula for geometric Vector Dot Product</p>\n",
    "\n",
    "<h3>Magnitude of Vectors Scaled by Angle</h3>\n",
    "<img src=\"https://i.ibb.co/F0q9Xcd/1.png\" alt=\"1\" border=\"0\">\n",
    "<h3>Dot Product Features Based on Theta</h3>\n",
    "<img src=\"https://i.ibb.co/PYNT5JJ/1.png\" alt=\"1\" border=\"0\">\n",
    "\n",
    "<h3>The law of Cosine</h3>\n",
    "<p>The law of cosine is same as pythogoras theorem here we need to find lenght c based on hte length a and length b</p>\n",
    "<div><img src=\"https://i.ibb.co/Y8LHLx4/2.png\" alt=\"2\" border=\"0\"></div>\n",
    "<img src=\"https://i.ibb.co/qrxcDNf/4.png\" alt=\"4\" border=\"0\">\n",
    "<br>\n",
    "<img src=\"https://i.ibb.co/bHxf2wt/5.png\" alt=\"5\" border=\"0\">\n",
    "<br>\n",
    "<img src=\"https://i.ibb.co/6wytWw6/6.png\" alt=\"6\" border=\"0\">\n",
    "\n"
   ]
  },
  {
   "cell_type": "markdown",
   "metadata": {},
   "source": [
    "**Import the Libraries**"
   ]
  },
  {
   "cell_type": "code",
   "execution_count": null,
   "metadata": {},
   "outputs": [],
   "source": []
  }
 ],
 "metadata": {
  "language_info": {
   "name": "python"
  },
  "orig_nbformat": 4
 },
 "nbformat": 4,
 "nbformat_minor": 2
}

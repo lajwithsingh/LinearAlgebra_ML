{
 "cells": [
  {
   "cell_type": "markdown",
   "metadata": {},
   "source": [
    "<h1>The Outer Product of Vectors</h1>\n",
    "<img src=\"https://i.ibb.co/Zcbj1VB/d.png\" alt=\"d\" border=\"0\">\n",
    "<p>You can think this product in either row or column perspective</p>"
   ]
  },
  {
   "cell_type": "markdown",
   "metadata": {},
   "source": [
    "**Outer Product in Python Code**"
   ]
  },
  {
   "cell_type": "code",
   "execution_count": null,
   "metadata": {},
   "outputs": [],
   "source": [
    "#import numpy package\n",
    "import numpy as np  \n",
    "\n",
    "#vectors\n",
    "v1 = np.array([3, 2, -4, 5, -6])\n",
    "v2 = np.array([-6, 4, -3, 0, 9]) \n",
    "\n",
    "#Staright forward calculations\n",
    "outer_product = np.outer(v1, v2)\n",
    "\n",
    "#Not so Straight forward calculations\n",
    "o"
   ]
  }
 ],
 "metadata": {
  "language_info": {
   "name": "python"
  },
  "orig_nbformat": 4
 },
 "nbformat": 4,
 "nbformat_minor": 2
}

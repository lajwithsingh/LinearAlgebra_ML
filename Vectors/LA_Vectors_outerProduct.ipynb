{
 "cells": [
  {
   "cell_type": "markdown",
   "metadata": {},
   "source": [
    "<h1>The Outer Product of Vectors</h1>\n",
    "<img src=\"https://i.ibb.co/Zcbj1VB/d.png\" alt=\"d\" border=\"0\">\n",
    "<p>You can think this product in either row or column perspective</p>"
   ]
  },
  {
   "cell_type": "markdown",
   "metadata": {},
   "source": [
    "**Outer Product in Python Code**"
   ]
  },
  {
   "cell_type": "code",
   "execution_count": 4,
   "metadata": {},
   "outputs": [
    {
     "name": "stdout",
     "output_type": "stream",
     "text": [
      "Output Using Straight Forward Method :\n",
      "[[-18.  12.  -9.   0.  27.]\n",
      " [-12.   8.  -6.   0.  18.]\n",
      " [ 24. -16.  12.  -0. -36.]\n",
      " [-30.  20. -15.   0.  45.]\n",
      " [ 36. -24.  18.  -0. -54.]]\n",
      "\n",
      "Output Using Not so Straight Forward Method :\n",
      "[[-18.  12.  -9.   0.  27.]\n",
      " [-12.   8.  -6.   0.  18.]\n",
      " [ 24. -16.  12.  -0. -36.]\n",
      " [-30.  20. -15.   0.  45.]\n",
      " [ 36. -24.  18.  -0. -54.]]\n"
     ]
    }
   ],
   "source": [
    "#import numpy package\n",
    "import numpy as np  \n",
    "\n",
    "#vectors\n",
    "v1 = np.array([3, 2, -4, 5, -6], dtype = np.float64)\n",
    "v2 = np.array([-6, 4, -3, 0, 9], dtype= np.float64) \n",
    "\n",
    "#Staright forward calculations\n",
    "outer_product = np.outer(v1, v2)\n",
    "\n",
    "#Not so Straight forward calculations\n",
    "output = np.zeros((len(v1), len(v2)))\n",
    "for i in range(len(v1)):\n",
    "    for j in range(len(v2)):\n",
    "        output[i][j] = v1[i] * v2[j]\n",
    "\n",
    "print(\"Output Using Straight Forward Method :\\n{}\\n\".format(outer_product))\n",
    "print(\"Output Using Not so Straight Forward Method :\\n{}\".format(output))\n",
    "\n"
   ]
  }
 ],
 "metadata": {
  "interpreter": {
   "hash": "964c336549db2cbb3bd5cebfe9145b76bc498789d9180131f599a99692befa91"
  },
  "kernelspec": {
   "display_name": "Python 3.10.1 64-bit",
   "language": "python",
   "name": "python3"
  },
  "language_info": {
   "codemirror_mode": {
    "name": "ipython",
    "version": 3
   },
   "file_extension": ".py",
   "mimetype": "text/x-python",
   "name": "python",
   "nbconvert_exporter": "python",
   "pygments_lexer": "ipython3",
   "version": "3.10.1"
  },
  "orig_nbformat": 4
 },
 "nbformat": 4,
 "nbformat_minor": 2
}

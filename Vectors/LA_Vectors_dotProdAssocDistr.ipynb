{
 "cells": [
  {
   "cell_type": "markdown",
   "metadata": {},
   "source": [
    "<h1>Dot Product Associative & Distributive Property</h1>\n",
    "<p>The Dot product is Distributive</p>\n",
    "<img src=\"https://i.ibb.co/mbYSPqm/1.png\" alt=\"1\" border=\"0\">\n",
    "\n",
    "<p>The Dot Product is Not Associative</p>\n",
    "<img src=\"https://i.ibb.co/LpzMRmr/2.png\" alt=\"2\" border=\"0\">\n",
    "\n",
    "\n"
   ]
  },
  {
   "cell_type": "markdown",
   "metadata": {},
   "source": [
    "**Importing Useful Libraries**"
   ]
  },
  {
   "cell_type": "code",
   "execution_count": 1,
   "metadata": {},
   "outputs": [],
   "source": [
    "import numpy as np\n",
    "import matplotlib.pyplot as plt\n",
    "from mpl_toolkits.mplot3d import Axes3D"
   ]
  },
  {
   "cell_type": "markdown",
   "metadata": {},
   "source": [
    "**Vector Dot Product In Python**"
   ]
  },
  {
   "cell_type": "code",
   "execution_count": 10,
   "metadata": {},
   "outputs": [
    {
     "name": "stdout",
     "output_type": "stream",
     "text": [
      "Result 1 : 2.17512122196073\n",
      "Result 2 : 2.17512122196073\n",
      "Hence Proved That Distributive Property Satisfy In Vectors\n"
     ]
    }
   ],
   "source": [
    "#Distributive Property\n",
    "\n",
    "#create random vectors\n",
    "n = 5\n",
    "a = np.random.rand(n)\n",
    "b = np.random.rand(n)\n",
    "c = np.random.rand(n)\n",
    "\n",
    "#the two results\n",
    "result_1 = np.dot(a , (b+c))\n",
    "result_2 = np.dot(a,b) + np.dot(a,c)\n",
    "\n",
    "print(\"Result 1 : {}\".format(result_1))\n",
    "print(\"Result 2 : {}\".format(result_2))\n",
    "print(\"Hence Proved That Distributive Property Satisfy In Vectors\")\n"
   ]
  },
  {
   "cell_type": "code",
   "execution_count": 9,
   "metadata": {},
   "outputs": [
    {
     "name": "stdout",
     "output_type": "stream",
     "text": [
      "Result 1 \n",
      " [ 2.30074877  3.09332155  2.98935402 -1.17509609 -1.28988868]\n",
      "Result 2 \n",
      " [ 0.98930052  0.4181319  -0.53510677 -1.50033603  0.12693029]\n",
      "Hence Proved That Associative Property Not Satisfy's In Vectors\n"
     ]
    }
   ],
   "source": [
    "#Associative Property \n",
    "\n",
    "#create random vectors\n",
    "n = 5\n",
    "a = np.random.randn(n)\n",
    "b = np.random.randn(n)\n",
    "c = np.random.randn(n)\n",
    "\n",
    "result_1 = np.dot(a, np.dot(b,c))\n",
    "result_2 = np.dot(np.dot(a,b), c)\n",
    "\n",
    "print(\"Result 1 \\n {}\".format(result_1))\n",
    "print(\"Result 2 \\n {}\".format(result_2))\n",
    "print(\"Hence Proved That Associative Property Not Satisfy's In Vectors\")"
   ]
  },
  {
   "cell_type": "markdown",
   "metadata": {},
   "source": [
    "**Special Case : <br> When The Vectors are in the condition  A = B = C at that time only they statisfy associative property <br>when one vector is zero at that time only vectors satisfy associative property**"
   ]
  }
 ],
 "metadata": {
  "interpreter": {
   "hash": "964c336549db2cbb3bd5cebfe9145b76bc498789d9180131f599a99692befa91"
  },
  "kernelspec": {
   "display_name": "Python 3.10.1 64-bit",
   "language": "python",
   "name": "python3"
  },
  "language_info": {
   "codemirror_mode": {
    "name": "ipython",
    "version": 3
   },
   "file_extension": ".py",
   "mimetype": "text/x-python",
   "name": "python",
   "nbconvert_exporter": "python",
   "pygments_lexer": "ipython3",
   "version": "3.10.1"
  },
  "orig_nbformat": 4
 },
 "nbformat": 4,
 "nbformat_minor": 2
}

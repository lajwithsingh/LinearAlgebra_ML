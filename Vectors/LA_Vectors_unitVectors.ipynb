{
 "cells": [
  {
   "cell_type": "markdown",
   "metadata": {},
   "source": [
    "<h1>Unit Vectors</h1>\n",
    "<h3>Defination of Unit Vector</h3>\n",
    "<img src=\"https://i.ibb.co/ZN7vh20/2.png\" alt=\"2\" border=\"0\">\n",
    "\n",
    "<p>It Says that scalar vector multiplication of <i>u</i> with vector <b>v</b> such that the magnitude of the new obtained vector is 1</p>\n",
    "<h3>How to choose <i>u</i> ?</h3>\n",
    "<img src=\"https://i.ibb.co/xjyZ0Hj/1.png\" alt=\"1\" border=\"0\">\n",
    "<h3>Proof of Unit Vectors</h3>\n",
    "<img src=\"https://i.ibb.co/jHbX1L3/3.png\" alt=\"3\" border=\"0\">\n",
    "<p>Now an important Exception to keep in mind is that the zero vector, which is te vector containing all zeros, The Zero vector does not have a corresponding unit vector and that too makes sense geometrically because the zero vector is just the point of origin. It has no Magnitude , no length and no direction.</p>"
   ]
  },
  {
   "cell_type": "markdown",
   "metadata": {},
   "source": [
    "**Implementing It in Python Code**"
   ]
  },
  {
   "cell_type": "code",
   "execution_count": 5,
   "metadata": {},
   "outputs": [
    {
     "name": "stdout",
     "output_type": "stream",
     "text": [
      "The Unit Vector is [-0.53452248  0.80178373  0.26726124]\n"
     ]
    }
   ],
   "source": [
    "#importing the libraries\n",
    "import numpy as np\n",
    "\n",
    "#defining vector\n",
    "v1 = np.array([-6, 9, 3])\n",
    "\n",
    "#calculating the magnitude of the vector\n",
    "magnitude = np.linalg.norm(v1)\n",
    "\n",
    "#The Unit Vectors\n",
    "unit_v1 = v1 / magnitude\n",
    "print(f\"The Unit Vector is {unit_v1}\")"
   ]
  },
  {
   "cell_type": "code",
   "execution_count": 6,
   "metadata": {},
   "outputs": [
    {
     "name": "stdout",
     "output_type": "stream",
     "text": [
      "1.0\n"
     ]
    }
   ],
   "source": [
    "#we can confirm by calculating magnitude of unit vector \n",
    "#It should be one\n",
    "print(np.linalg.norm(unit_v1))"
   ]
  }
 ],
 "metadata": {
  "interpreter": {
   "hash": "964c336549db2cbb3bd5cebfe9145b76bc498789d9180131f599a99692befa91"
  },
  "kernelspec": {
   "display_name": "Python 3.10.1 64-bit",
   "language": "python",
   "name": "python3"
  },
  "language_info": {
   "codemirror_mode": {
    "name": "ipython",
    "version": 3
   },
   "file_extension": ".py",
   "mimetype": "text/x-python",
   "name": "python",
   "nbconvert_exporter": "python",
   "pygments_lexer": "ipython3",
   "version": "3.10.1"
  },
  "orig_nbformat": 4
 },
 "nbformat": 4,
 "nbformat_minor": 2
}

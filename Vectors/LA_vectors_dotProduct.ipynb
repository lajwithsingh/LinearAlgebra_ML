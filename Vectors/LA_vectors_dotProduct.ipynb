{
 "cells": [
  {
   "cell_type": "markdown",
   "metadata": {},
   "source": [
    "<h1>Dot Product In Linear Algebra</h1>\n",
    "\n",
    "\n",
    "<p>The dot product is the computational building block upon which many algorithms are build, ranging from Correlation, Convulation to eigen Decomposition. The Result of Dot Product of Two Vectors is a Scalar which we know is just a number</p>\n",
    "\n",
    "<p>Dot Product Notation</p>\n",
    "<img src=\"https://i.ibb.co/mBK594j/uncaptured2.png\">\n",
    "\n",
    "<p>Dot Product Solved Example</p>\n",
    "\n",
    "<img src=\"https://i.ibb.co/qFqv019/uncapture1.png\" alt=\"uncaptured2\">\n"
   ]
  },
  {
   "cell_type": "markdown",
   "metadata": {},
   "source": [
    "**Importing the Libraries**"
   ]
  },
  {
   "cell_type": "code",
   "execution_count": 1,
   "metadata": {},
   "outputs": [],
   "source": [
    "import numpy as np \n",
    "import matplotlib.pyplot as plt \n",
    "from mpl_toolkits.mplot3d import Axes3D"
   ]
  },
  {
   "cell_type": "markdown",
   "metadata": {},
   "source": [
    "**Dot Product In Python Code**"
   ]
  },
  {
   "cell_type": "code",
   "execution_count": 6,
   "metadata": {},
   "outputs": [
    {
     "name": "stdout",
     "output_type": "stream",
     "text": [
      " dp1 = 32 \n",
      " dp2 = 32 \n",
      " dp3 = 32 \n",
      " dp4 = 32\n"
     ]
    }
   ],
   "source": [
    "#Many Ways to Compute Dot Product in Python\n",
    "v1 = np.array([1, 2, 3, 4, 5])\n",
    "v2 = np.array([0, -4, -3, 6, 5])\n",
    "\n",
    "#method1\n",
    "dp1 = sum(np.multiply(v1, v2))\n",
    "\n",
    "#method2\n",
    "dp2 = np.dot(v1, v2)\n",
    "\n",
    "#method3\n",
    "dp3 = np.matmul(v1, v2)\n",
    "\n",
    "#method4\n",
    "dp4 = 0\n",
    "\n",
    "for i in range(len(v1)):\n",
    "    dp4 += v1[i] * v2[i]\n",
    "\n",
    "print(\" dp1 = {} \\n dp2 = {} \\n dp3 = {} \\n dp4 = {}\".format(dp1, dp2, dp3,dp4))"
   ]
  }
 ],
 "metadata": {
  "interpreter": {
   "hash": "964c336549db2cbb3bd5cebfe9145b76bc498789d9180131f599a99692befa91"
  },
  "kernelspec": {
   "display_name": "Python 3.10.1 64-bit",
   "language": "python",
   "name": "python3"
  },
  "language_info": {
   "codemirror_mode": {
    "name": "ipython",
    "version": 3
   },
   "file_extension": ".py",
   "mimetype": "text/x-python",
   "name": "python",
   "nbconvert_exporter": "python",
   "pygments_lexer": "ipython3",
   "version": "3.10.1"
  },
  "orig_nbformat": 4
 },
 "nbformat": 4,
 "nbformat_minor": 2
}

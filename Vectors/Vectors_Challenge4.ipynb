{
 "cells": [
  {
   "cell_type": "markdown",
   "metadata": {},
   "source": [
    "<h1>Vectors Code Challenge 4</h1>\n",
    "<h3>Test Whether the dot product sign is invariant to scalar multiplication</h3>\n",
    "<ol>\n",
    "<li>Generate Two Vectors in (R3)</li>\n",
    "<li>Generate Two Scalars</li>\n",
    "<li>Compute The Dot Product Between Vectors</li>\n",
    "<li>Compute The Dot Product Between the Scaled Vectors</li>\n",
    "</ol>"
   ]
  },
  {
   "cell_type": "markdown",
   "metadata": {},
   "source": [
    "**Importing the Libraries**"
   ]
  },
  {
   "cell_type": "code",
   "execution_count": 2,
   "metadata": {},
   "outputs": [],
   "source": [
    "import numpy as np \n",
    "import matplotlib.pyplot as plt\n",
    "from mpl_toolkits.mplot3d import Axes3D"
   ]
  },
  {
   "cell_type": "markdown",
   "metadata": {},
   "source": [
    "**Proving It by Code**"
   ]
  },
  {
   "cell_type": "code",
   "execution_count": 3,
   "metadata": {},
   "outputs": [
    {
     "name": "stdout",
     "output_type": "stream",
     "text": [
      "Dot Product 1 : -0.9160773079519191\n",
      "Dot Product 2 : 0.3229102644746288\n"
     ]
    }
   ],
   "source": [
    "#Randomly generated two vectors  \n",
    "v1 = np.random.randn(5) \n",
    "v2 = np.random.randn(5)\n",
    "\n",
    "#Randomly generated two scalars \n",
    "s1 = np.random.randn(1)\n",
    "s2 = np.random.randn(1)\n",
    "\n",
    "dot_product1 = np.dot(v1, v2)\n",
    "dot_product2 = np.dot(v1 * s1, v2 * s2)\n",
    "\n",
    "print(\"Dot Product 1 : {}\\nDot Product 2 : {}\".format(dot_product1, dot_product2))"
   ]
  },
  {
   "cell_type": "code",
   "execution_count": 4,
   "metadata": {},
   "outputs": [
    {
     "name": "stdout",
     "output_type": "stream",
     "text": [
      "Dot Product 1 : -12\n",
      "Dot Product 2 : -72\n"
     ]
    }
   ],
   "source": [
    "#Example 2  \n",
    "v1 = np.array([3, 2, -6])\n",
    "v2 = np.array([6, -6, 3])\n",
    "\n",
    "#Randomly generated two scalars \n",
    "s1 = 2\n",
    "s2 = 3\n",
    "\n",
    "dot_product1 = np.dot(v1, v2)\n",
    "dot_product2 = np.dot(v1 * s1, v2 * s2)\n",
    "\n",
    "print(\"Dot Product 1 : {}\\nDot Product 2 : {}\".format(dot_product1, dot_product2))"
   ]
  }
 ],
 "metadata": {
  "interpreter": {
   "hash": "964c336549db2cbb3bd5cebfe9145b76bc498789d9180131f599a99692befa91"
  },
  "kernelspec": {
   "display_name": "Python 3.10.1 64-bit",
   "language": "python",
   "name": "python3"
  },
  "language_info": {
   "codemirror_mode": {
    "name": "ipython",
    "version": 3
   },
   "file_extension": ".py",
   "mimetype": "text/x-python",
   "name": "python",
   "nbconvert_exporter": "python",
   "pygments_lexer": "ipython3",
   "version": "3.10.1"
  },
  "orig_nbformat": 4
 },
 "nbformat": 4,
 "nbformat_minor": 2
}

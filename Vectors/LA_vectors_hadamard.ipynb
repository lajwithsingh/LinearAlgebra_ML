{
 "cells": [
  {
   "cell_type": "markdown",
   "metadata": {},
   "source": [
    "<h1>Vector Hadamard Multiplication</h1>\n",
    "<img src=\"https://i.ibb.co/4fy1TcW/d.png\" alt=\"d\" >\n",
    "<p>This is Known as elementwise multiplication for reason so you take two vectors and then hadamard multiplication is defined as simply the element wise multiplication of the elements of the two vector so the resulting product vector, the first element would be the the one times two is the two zero times eight is zero and so on </p>\n",
    "<p>Only Valid for Two Vectors having Same Dimensions</p>"
   ]
  },
  {
   "cell_type": "markdown",
   "metadata": {},
   "source": [
    "**Implementing In Python**"
   ]
  },
  {
   "cell_type": "code",
   "execution_count": 1,
   "metadata": {},
   "outputs": [
    {
     "name": "stdout",
     "output_type": "stream",
     "text": [
      "[  2   0 -12   5   0]\n"
     ]
    }
   ],
   "source": [
    "#importing the numpy package\n",
    "import numpy as np\n",
    "\n",
    "#defining two vectors\n",
    "v1 = [1, 0, 2, 5, -2]\n",
    "v2 = [2, 8, -6, 1, 0]\n",
    "\n",
    "#hadamard multiplication\n",
    "result = np.multiply(v1, v2)\n",
    "\n",
    "#printing the results\n",
    "print(result)"
   ]
  }
 ],
 "metadata": {
  "interpreter": {
   "hash": "964c336549db2cbb3bd5cebfe9145b76bc498789d9180131f599a99692befa91"
  },
  "kernelspec": {
   "display_name": "Python 3.10.1 64-bit",
   "language": "python",
   "name": "python3"
  },
  "language_info": {
   "codemirror_mode": {
    "name": "ipython",
    "version": 3
   },
   "file_extension": ".py",
   "mimetype": "text/x-python",
   "name": "python",
   "nbconvert_exporter": "python",
   "pygments_lexer": "ipython3",
   "version": "3.10.1"
  },
  "orig_nbformat": 4
 },
 "nbformat": 4,
 "nbformat_minor": 2
}

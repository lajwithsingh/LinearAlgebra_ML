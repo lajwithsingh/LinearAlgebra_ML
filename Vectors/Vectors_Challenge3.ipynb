{
 "cells": [
  {
   "cell_type": "markdown",
   "metadata": {},
   "source": [
    "<h1>The Cauchy Shwartz Inequality</h1>\n",
    "<p>In This Notebook We Are going to Prove Cauch's schwartz Inequality</p>\n",
    "<img src=\"https://i.ibb.co/vj7qWJW/1.png\" alt=\"1\" border=\"0\">\n",
    "<p>When the two Vector A and B are linearly independent than the above expression comes into inequality</p>\n",
    "<p>But when the two Vector A an B are linearly dependent than the above expression becomes equality</p>\n",
    "<i>The two vectors are said to be linearly dependent when one vectors is just scaled version of another vector</i>"
   ]
  },
  {
   "cell_type": "markdown",
   "metadata": {},
   "source": [
    "**Import the Library**"
   ]
  },
  {
   "cell_type": "code",
   "execution_count": 1,
   "metadata": {},
   "outputs": [],
   "source": [
    "import numpy as np        \n",
    "import matplotlib.pyplot as plt \n",
    "from mpl_toolkits.mplot3d import Axes3D"
   ]
  },
  {
   "cell_type": "markdown",
   "metadata": {},
   "source": [
    "**Proof of Cauchy Schwartz Inequality**"
   ]
  },
  {
   "cell_type": "code",
   "execution_count": 4,
   "metadata": {},
   "outputs": [
    {
     "name": "stdout",
     "output_type": "stream",
     "text": [
      "Inequalities : 3.0923 5.7838\n",
      "Equalities : 4.0802 4.0802\n"
     ]
    }
   ],
   "source": [
    "#Let's Make 3 Vectors 1 Combination of Linearly Dependent and Another Linearly Independent\n",
    "a = np.random.randn(5)\n",
    "b = np.random.randn(5)\n",
    "c = np.random.randn(1) * a\n",
    "\n",
    "#Let's Calculate the Dot Product\n",
    "aTb = np.dot(a, b)\n",
    "aTc = np.dot(a, c)\n",
    "\n",
    "#Let's Calculate the Product of norms of the two vectors\n",
    "prod_ab = np.linalg.norm(a) * np.linalg.norm(b)\n",
    "prod_ac = np.linalg.norm(a) * np.linalg.norm(c)\n",
    "\n",
    "\n",
    "print(f'Inequalities : {aTb:.4f} {prod_ab:.4f}')\n",
    "print(f'Equalities : {np.abs(aTc):.4f} {prod_ac:.4f}')"
   ]
  }
 ],
 "metadata": {
  "interpreter": {
   "hash": "964c336549db2cbb3bd5cebfe9145b76bc498789d9180131f599a99692befa91"
  },
  "kernelspec": {
   "display_name": "Python 3.10.1 64-bit",
   "language": "python",
   "name": "python3"
  },
  "language_info": {
   "codemirror_mode": {
    "name": "ipython",
    "version": 3
   },
   "file_extension": ".py",
   "mimetype": "text/x-python",
   "name": "python",
   "nbconvert_exporter": "python",
   "pygments_lexer": "ipython3",
   "version": "3.10.1"
  },
  "orig_nbformat": 4
 },
 "nbformat": 4,
 "nbformat_minor": 2
}

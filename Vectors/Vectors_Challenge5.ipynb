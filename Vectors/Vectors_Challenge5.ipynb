{
 "cells": [
  {
   "cell_type": "markdown",
   "metadata": {},
   "source": [
    "<h1>Vectors Challenge 5</h1>\n",
    "<ol>\n",
    "<li>Create two random-integer vectors (R4)</li>\n",
    "<li>Compute the lengths of the individual vectors, and magnitude their dot product</li>\n",
    "<li>Then Create Unit Vectors</li>\n",
    "<li>Then Compute the magnitude of that dot product</li>\n",
    "</ol>"
   ]
  },
  {
   "cell_type": "markdown",
   "metadata": {},
   "source": [
    "**Implementation in Python Code**"
   ]
  },
  {
   "cell_type": "code",
   "execution_count": 1,
   "metadata": {},
   "outputs": [
    {
     "name": "stdout",
     "output_type": "stream",
     "text": [
      "Length of Vector v1 : 138.6903024728117\n",
      "Length of Vector v2 : 79.81854421122951\n"
     ]
    }
   ],
   "source": [
    "#importing the libraries\n",
    "import numpy as np\n",
    "\n",
    "#Creating random integer vectors in R4\n",
    "v1 = np.random.randint(-100, 100, size = 4)\n",
    "v2 = np.random.randint(-100, 100 , size = 4)\n",
    "\n",
    "#Calculating the Length of vectors\n",
    "v1_len = np.linalg.norm(v1)\n",
    "v2_len = np.linalg.norm(v2)\n",
    "\n",
    "print(f\"Length of Vector v1 : {v1_len}\")\n",
    "print(f\"Length of Vector v2 : {v2_len}\")"
   ]
  },
  {
   "cell_type": "code",
   "execution_count": 2,
   "metadata": {},
   "outputs": [
    {
     "name": "stdout",
     "output_type": "stream",
     "text": [
      "Dot Product of Vector V1 and V2 : -8627\n"
     ]
    }
   ],
   "source": [
    "#dot Product of Two Vectors\n",
    "dot_v1v2 = np.dot(v1, v2)\n",
    "\n",
    "print(f\"Dot Product of Vector V1 and V2 : {dot_v1v2}\")"
   ]
  },
  {
   "cell_type": "code",
   "execution_count": 3,
   "metadata": {},
   "outputs": [
    {
     "name": "stdout",
     "output_type": "stream",
     "text": [
      "The Unit Vector of V1 : [ 0.43261857  0.6849794   0.58403507 -0.05047217]\n",
      "The Unit Vector of V2 : [-0.45102301 -0.53872193 -0.31321042  0.63894926]\n"
     ]
    }
   ],
   "source": [
    "#Calculating the Unit Vectors\n",
    "v1_unit = v1 / v1_len\n",
    "v2_unit = v2 / v2_len\n",
    "\n",
    "print(\"The Unit Vector of V1 : {}\".format(v1_unit))\n",
    "print(\"The Unit Vector of V2 : {}\".format(v2_unit))"
   ]
  },
  {
   "cell_type": "code",
   "execution_count": 4,
   "metadata": {},
   "outputs": [
    {
     "name": "stdout",
     "output_type": "stream",
     "text": [
      "Dot Product of Two Vectors -0.7793093739114386\n"
     ]
    }
   ],
   "source": [
    "#Computing the magnitude of Dot Product\n",
    "dot_unit = np.dot(v1_unit, v2_unit)\n",
    "print(f\"Dot Product of Two Vectors {dot_unit}\")"
   ]
  },
  {
   "cell_type": "code",
   "execution_count": 5,
   "metadata": {},
   "outputs": [
    {
     "name": "stdout",
     "output_type": "stream",
     "text": [
      "Norm of Vectors v1 : 0.9999999999999999\n",
      "Norm of Vectors v2 : 1.0\n"
     ]
    }
   ],
   "source": [
    "print(\"Norm of Vectors v1 : {}\".format(np.linalg.norm(v1_unit)))\n",
    "print(\"Norm of Vectors v2 : {}\".format(np.linalg.norm(v2_unit)))\n"
   ]
  }
 ],
 "metadata": {
  "interpreter": {
   "hash": "964c336549db2cbb3bd5cebfe9145b76bc498789d9180131f599a99692befa91"
  },
  "kernelspec": {
   "display_name": "Python 3.10.1 64-bit",
   "language": "python",
   "name": "python3"
  },
  "language_info": {
   "codemirror_mode": {
    "name": "ipython",
    "version": 3
   },
   "file_extension": ".py",
   "mimetype": "text/x-python",
   "name": "python",
   "nbconvert_exporter": "python",
   "pygments_lexer": "ipython3",
   "version": "3.10.1"
  },
  "orig_nbformat": 4
 },
 "nbformat": 4,
 "nbformat_minor": 2
}

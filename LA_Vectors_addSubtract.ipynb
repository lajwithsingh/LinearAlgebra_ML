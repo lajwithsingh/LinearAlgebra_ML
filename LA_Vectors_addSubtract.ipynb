{
 "cells": [
  {
   "cell_type": "markdown",
   "metadata": {},
   "source": [
    "<h1>Vector Addition & Subtraction</h1>\n",
    "<img src=\"https://i.ibb.co/JyCwS5K/Screenshot-66.png\" alt=\"Screenshot-66\" border=\"0\">\n",
    "<p>Algebraically Vector Additiona & Subtraction is really easy we Just add or Subtract Corresponding Vector Element</p>\n",
    "\n",
    "<h3>Addition of Vectors</h3>\n",
    "\n",
    "<img src=\"https://i.ibb.co/VChkmVn/Captured.png\" alt=\"Captured\" border=\"0\">\n",
    "<p>In the addition of vectors, we are adding two or more vectors using the addition operation in order to obtain a new vector that is equal to the sum of the two or more vectors. Two vectors, a and b, can be added together using vector addition, and the resultant vector can be written as: a + b </p>\n",
    "\n",
    "\n",
    "\n",
    "\n",
    "<h3>Subtraction of Vectors</h3>\n",
    "\n",
    "<img src=\"https://i.ibb.co/djhkgm1/Screenshot-69.png\" alt=\"Screenshot-69\" border=\"0\"></a><br />\n",
    "\n",
    "<p>Two vectors of the same dimension (i.e. the same number of elements) can be subtracted from one another to produce a resultant vector that is also at the same dimension as the input vectors. Negative vector is a vector with the same magnitude as the input vector but with the opposite direction.</p>"
   ]
  },
  {
   "cell_type": "markdown",
   "metadata": {},
   "source": [
    "<b>Importing the Libraries</b>"
   ]
  },
  {
   "cell_type": "code",
   "execution_count": 1,
   "metadata": {},
   "outputs": [],
   "source": [
    "import numpy as np \n",
    "import matplotlib.pyplot as plt \n",
    "from mpl_toolkits.mplot3d import Axes3D"
   ]
  },
  {
   "cell_type": "markdown",
   "metadata": {},
   "source": [
    "**Vector Addition in Python**"
   ]
  },
  {
   "cell_type": "code",
   "execution_count": 14,
   "metadata": {},
   "outputs": [
    {
     "data": {
      "image/png": "[encoded data removed]",
      "text/plain": [
       "<Figure size 576x576 with 1 Axes>"
      ]
     },
     "metadata": {
      "needs_background": "light"
     },
     "output_type": "display_data"
    }
   ],
   "source": [
    "#Two Vectors in R2 Space\n",
    "v1 = np.array([3, -1])\n",
    "v2 = np.array([2, 4])\n",
    "\n",
    "v3 = v1 + v2\n",
    "\n",
    "#Plotting those Vectors\n",
    "fig = plt.figure(figsize=(8,8))\n",
    "plt.plot([0,v1[0]], [0,v1[1]],'b', label = \"v1\")\n",
    "plt.plot([0,v2[0]] + v1[0],[0,v2[1]] + v1[1],'r' , label = \"v2\")\n",
    "plt.plot([0,v3[0]],[0,v3[1]],'k', label=\"v1+v2\")\n",
    "\n",
    "plt.legend()\n",
    "plt.axis('square')\n",
    "plt.grid()\n",
    "plt.axis((-6, 6, -6, 6))\n",
    "plt.show()"
   ]
  },
  {
   "cell_type": "markdown",
   "metadata": {},
   "source": [
    "**Vector Subtraction in Python**"
   ]
  },
  {
   "cell_type": "code",
   "execution_count": 19,
   "metadata": {},
   "outputs": [
    {
     "data": {
      "image/png": "[encoded data removed]",
      "text/plain": [
       "<Figure size 576x576 with 1 Axes>"
      ]
     },
     "metadata": {
      "needs_background": "light"
     },
     "output_type": "display_data"
    }
   ],
   "source": [
    "#Two Vectors in R2 Space\n",
    "v1 = np.array([1, 2])\n",
    "v2 = np.array([2, 1])\n",
    "\n",
    "v2N = v2 * -1\n",
    "#Multiplying by Negative Number and then doing Addition\n",
    "v3 = v1 + v2N\n",
    "\n",
    "#Plotting Those Vectors\n",
    "\n",
    "fig = plt.figure(figsize = (8,8))\n",
    "plt.plot([0, v1[0]], [0, v1[1]], 'b', label = \"v1\")\n",
    "plt.plot([0, v2N[0]] + v1[0] , [0, v2N[1]] + v1[1], label = \"-v2\")\n",
    "plt.plot([0,v3[0]], [0, v3[1]], 'r', label = \"v1 - v2\")\n",
    "\n",
    "plt.legend()\n",
    "plt.axis('equal')\n",
    "plt.grid() \n",
    "plt.axis((-3, 3 , 3 , -3))\n",
    "plt.show()"
   ]
  }
 ],
 "metadata": {
  "interpreter": {
   "hash": "964c336549db2cbb3bd5cebfe9145b76bc498789d9180131f599a99692befa91"
  },
  "kernelspec": {
   "display_name": "Python 3.10.1 64-bit",
   "language": "python",
   "name": "python3"
  },
  "language_info": {
   "codemirror_mode": {
    "name": "ipython",
    "version": 3
   },
   "file_extension": ".py",
   "mimetype": "text/x-python",
   "name": "python",
   "nbconvert_exporter": "python",
   "pygments_lexer": "ipython3",
   "version": "3.10.1"
  },
  "orig_nbformat": 4
 },
 "nbformat": 4,
 "nbformat_minor": 2
}

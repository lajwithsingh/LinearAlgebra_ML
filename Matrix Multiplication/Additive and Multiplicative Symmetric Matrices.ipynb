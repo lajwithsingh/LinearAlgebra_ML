{
 "cells": [
  {
   "cell_type": "markdown",
   "id": "2dcd89c0",
   "metadata": {},
   "source": [
    "<h1>Additive & Multiplicative Symmetric Matrices</h1>"
   ]
  },
  {
   "cell_type": "code",
   "execution_count": 1,
   "id": "9aeaeec8",
   "metadata": {},
   "outputs": [],
   "source": [
    "import numpy as np\n",
    "import matplotlib.pyplot as plt\n"
   ]
  },
  {
   "cell_type": "code",
   "execution_count": 10,
   "id": "d67b38e5",
   "metadata": {},
   "outputs": [
    {
     "name": "stdout",
     "output_type": "stream",
     "text": [
      "[[0. 0. 0. 0. 0.]\n",
      " [0. 0. 0. 0. 0.]\n",
      " [0. 0. 0. 0. 0.]\n",
      " [0. 0. 0. 0. 0.]\n",
      " [0. 0. 0. 0. 0.]]\n"
     ]
    }
   ],
   "source": [
    "##The Addtitive Method\n",
    "\n",
    "#Specify Sizes\n",
    "m = 5\n",
    "n = 5\n",
    "\n",
    "#Create Matrices\n",
    "matrix = np.random.randint(5, 10, (m, n))\n",
    "S = (matrix + matrix.T)/2\n",
    "\n",
    "print(S-S.T)\n"
   ]
  },
  {
   "cell_type": "code",
   "execution_count": 12,
   "id": "b66e5e60",
   "metadata": {},
   "outputs": [
    {
     "name": "stdout",
     "output_type": "stream",
     "text": [
      "[[0 0 0 0 0 0]\n",
      " [0 0 0 0 0 0]\n",
      " [0 0 0 0 0 0]\n",
      " [0 0 0 0 0 0]\n",
      " [0 0 0 0 0 0]\n",
      " [0 0 0 0 0 0]]\n"
     ]
    }
   ],
   "source": [
    "##The Multiplicative Method\n",
    "\n",
    "#specify size\n",
    "m = 6\n",
    "n = 5\n",
    "\n",
    "#create matrices\n",
    "matrix = np.random.randint(-10, 10, (m, n))\n",
    "S = matrix@matrix.T\n",
    "\n",
    "print(S-S.T)"
   ]
  },
  {
   "cell_type": "code",
   "execution_count": null,
   "id": "e45cecbf",
   "metadata": {},
   "outputs": [],
   "source": []
  },
  {
   "cell_type": "code",
   "execution_count": null,
   "id": "a692bad5",
   "metadata": {},
   "outputs": [],
   "source": []
  }
 ],
 "metadata": {
  "kernelspec": {
   "display_name": "Python 3 (ipykernel)",
   "language": "python",
   "name": "python3"
  },
  "language_info": {
   "codemirror_mode": {
    "name": "ipython",
    "version": 3
   },
   "file_extension": ".py",
   "mimetype": "text/x-python",
   "name": "python",
   "nbconvert_exporter": "python",
   "pygments_lexer": "ipython3",
   "version": "3.9.12"
  }
 },
 "nbformat": 4,
 "nbformat_minor": 5
}

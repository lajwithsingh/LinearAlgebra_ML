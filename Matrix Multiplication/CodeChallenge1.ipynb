{
  "nbformat": 4,
  "nbformat_minor": 0,
  "metadata": {
    "colab": {
      "name": "CodeChallenge1.ipynb",
      "provenance": []
    },
    "kernelspec": {
      "name": "python3",
      "display_name": "Python 3"
    },
    "language_info": {
      "name": "python"
    }
  },
  "cells": [
    {
      "cell_type": "code",
      "execution_count": 1,
      "metadata": {
        "id": "qB8nw0VaCT6s"
      },
      "outputs": [],
      "source": [
        "import numpy as np"
      ]
    },
    {
      "cell_type": "code",
      "source": [
        "matrix1 = np.random.randint(1, 100, (3,3))\n",
        "matrix2 = np.random.randint(1, 900, (3, 3))"
      ],
      "metadata": {
        "id": "TyezZy_gFODM"
      },
      "execution_count": 2,
      "outputs": []
    },
    {
      "cell_type": "code",
      "source": [
        "matrix1"
      ],
      "metadata": {
        "colab": {
          "base_uri": "https://localhost:8080/"
        },
        "id": "OicegZiPFagE",
        "outputId": "b2445a77-f993-40b0-a6e7-a299ef1f76d5"
      },
      "execution_count": 3,
      "outputs": [
        {
          "output_type": "execute_result",
          "data": {
            "text/plain": [
              "array([[85, 44, 57],\n",
              "       [24, 67, 92],\n",
              "       [62, 90, 28]])"
            ]
          },
          "metadata": {},
          "execution_count": 3
        }
      ]
    },
    {
      "cell_type": "code",
      "source": [
        "matrix2"
      ],
      "metadata": {
        "colab": {
          "base_uri": "https://localhost:8080/"
        },
        "id": "NMm2sAbRFcW0",
        "outputId": "392e7d1e-e5bc-4f8a-bafd-0dc3052904a1"
      },
      "execution_count": 4,
      "outputs": [
        {
          "output_type": "execute_result",
          "data": {
            "text/plain": [
              "array([[423, 335, 734],\n",
              "       [470, 859, 470],\n",
              "       [691, 715, 765]])"
            ]
          },
          "metadata": {},
          "execution_count": 4
        }
      ]
    },
    {
      "cell_type": "code",
      "source": [
        "final_list  = []\n",
        "\n",
        "for i in matrix1.T:\n",
        "  temp_list = []\n",
        "  for j in matrix2:\n",
        "    temp_list.append(i * j)\n",
        "  final_list.append(temp_list)"
      ],
      "metadata": {
        "id": "0CufH0SRFeHU"
      },
      "execution_count": 17,
      "outputs": []
    },
    {
      "cell_type": "code",
      "source": [
        "final_array = np.array(final_list)"
      ],
      "metadata": {
        "id": "MfLfs3zWI2mA"
      },
      "execution_count": 25,
      "outputs": []
    },
    {
      "cell_type": "code",
      "source": [
        "sum = np.zeros((3,3))\n",
        "\n",
        "for i in final_array:\n",
        "  sum += np.array(i)"
      ],
      "metadata": {
        "id": "rs0hPe8KG-pc"
      },
      "execution_count": 26,
      "outputs": []
    },
    {
      "cell_type": "code",
      "source": [
        "print(sum)"
      ],
      "metadata": {
        "colab": {
          "base_uri": "https://localhost:8080/"
        },
        "id": "c9kTaTCEHjwc",
        "outputId": "e0258faf-1b02-4fad-cb57-d5c064328e9b"
      },
      "execution_count": 27,
      "outputs": [
        {
          "output_type": "stream",
          "name": "stdout",
          "text": [
            "[[ 78678.  61305. 132120.]\n",
            " [ 87420. 157197.  84600.]\n",
            " [128526. 130845. 137700.]]\n"
          ]
        }
      ]
    },
    {
      "cell_type": "code",
      "source": [
        "np.matmul(matrix1, matrix2)"
      ],
      "metadata": {
        "colab": {
          "base_uri": "https://localhost:8080/"
        },
        "id": "C8GRQf87Hna0",
        "outputId": "6e622ba9-5f88-404a-e4b3-d3ae763d6da4"
      },
      "execution_count": 28,
      "outputs": [
        {
          "output_type": "execute_result",
          "data": {
            "text/plain": [
              "array([[ 96022, 107026, 126675],\n",
              "       [105214, 131373, 119486],\n",
              "       [ 87874, 118100, 109228]])"
            ]
          },
          "metadata": {},
          "execution_count": 28
        }
      ]
    },
    {
      "cell_type": "code",
      "source": [
        "for i in matrix2:\n",
        "  print(i)"
      ],
      "metadata": {
        "colab": {
          "base_uri": "https://localhost:8080/"
        },
        "id": "XkTtSkNSIRfA",
        "outputId": "b0b83b83-3b9c-4b6c-82c6-bb33beaa494c"
      },
      "execution_count": 24,
      "outputs": [
        {
          "output_type": "stream",
          "name": "stdout",
          "text": [
            "[423 335 734]\n",
            "[470 859 470]\n",
            "[691 715 765]\n"
          ]
        }
      ]
    },
    {
      "cell_type": "code",
      "source": [
        "m = 4\n",
        "n = 6\n",
        "\n",
        "matrix1 = np.random.randn(m,n)\n",
        "matrix2 = np.random.randn(n, m)\n",
        "\n",
        "result = np.zeros((m, m))\n",
        "\n",
        "for i in range(n):\n",
        "  result += np.outer(matrix1[:, i], matrix2[i, :])\n",
        "\n",
        "print(result) \n",
        "print(\"\\n\\n\\n\\n\")\n",
        "print(matrix1@matrix2)\n",
        "print(\"\\n\\n\\n\\n\")\n",
        "print(matrix1@matrix2 - result)\n"
      ],
      "metadata": {
        "colab": {
          "base_uri": "https://localhost:8080/"
        },
        "id": "DnydVuoPJams",
        "outputId": "aaf6e8be-cdbe-4412-8573-c27aded5df2b"
      },
      "execution_count": 31,
      "outputs": [
        {
          "output_type": "stream",
          "name": "stdout",
          "text": [
            "[[ 0.0302157  -0.31099203 -0.72654288  3.00005721]\n",
            " [ 0.1024627   2.38711147 -1.60915857  0.12806246]\n",
            " [-0.43807288  1.14802855 -3.63797803  1.35008133]\n",
            " [ 3.02568339  0.39947686  0.74836666 -3.96045679]]\n",
            "\n",
            "\n",
            "\n",
            "\n",
            "\n",
            "[[ 0.0302157  -0.31099203 -0.72654288  3.00005721]\n",
            " [ 0.1024627   2.38711147 -1.60915857  0.12806246]\n",
            " [-0.43807288  1.14802855 -3.63797803  1.35008133]\n",
            " [ 3.02568339  0.39947686  0.74836666 -3.96045679]]\n",
            "\n",
            "\n",
            "\n",
            "\n",
            "\n",
            "[[-1.38777878e-17  0.00000000e+00 -1.11022302e-16  4.44089210e-16]\n",
            " [ 1.38777878e-17 -4.44089210e-16  0.00000000e+00 -5.55111512e-17]\n",
            " [-1.11022302e-16  0.00000000e+00  4.44089210e-16  2.22044605e-16]\n",
            " [ 0.00000000e+00 -1.11022302e-16  0.00000000e+00  0.00000000e+00]]\n"
          ]
        }
      ]
    }
  ]
}
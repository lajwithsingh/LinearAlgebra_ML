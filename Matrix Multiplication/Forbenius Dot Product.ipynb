{
 "cells": [
  {
   "cell_type": "markdown",
   "id": "d8865160",
   "metadata": {},
   "source": [
    "<h1>Forbenius Dot Product</h1>"
   ]
  },
  {
   "cell_type": "code",
   "execution_count": 1,
   "id": "8c6e343f",
   "metadata": {},
   "outputs": [],
   "source": [
    "import numpy as np\n",
    "import matplotlib.pyplot as plt"
   ]
  },
  {
   "cell_type": "code",
   "execution_count": 2,
   "id": "1533e8ea",
   "metadata": {},
   "outputs": [
    {
     "name": "stdout",
     "output_type": "stream",
     "text": [
      "5.784188595043241\n"
     ]
    }
   ],
   "source": [
    "m = 9\n",
    "n = 4\n",
    "\n",
    "#but the two matrices must be the same\n",
    "A = np.random.randn(m, n)\n",
    "B = np.random.randn(m, n)\n",
    "\n",
    "#first vectorize then Vector-dot-product\n",
    "Av = np.reshape(A, m*n, order = 'F')\n",
    "Bv = np.reshape(B, m*n, order = 'F')\n",
    "frob_dp = np.dot(Av, Bv)\n",
    "print(frob_dp)\n"
   ]
  },
  {
   "cell_type": "code",
   "execution_count": 6,
   "id": "29715876",
   "metadata": {},
   "outputs": [
    {
     "name": "stdout",
     "output_type": "stream",
     "text": [
      "5.784188595043241\n",
      "5.784188595043241\n"
     ]
    }
   ],
   "source": [
    "#trace method\n",
    "frob_dp2 = np.trace(A.T@B)\n",
    "print(frob_dp2)\n",
    "print(frob_dp)"
   ]
  },
  {
   "cell_type": "code",
   "execution_count": 7,
   "id": "d95e51ff",
   "metadata": {},
   "outputs": [
    {
     "name": "stdout",
     "output_type": "stream",
     "text": [
      "4.419341295014646\n",
      "4.419341295014646\n"
     ]
    }
   ],
   "source": [
    "#matrix norm\n",
    "Anorm = np.linalg.norm(A, 'fro')\n",
    "Anorm2 = np.sqrt(np.trace(A.T@A))\n",
    "print(Anorm)\n",
    "print(Anorm2)"
   ]
  }
 ],
 "metadata": {
  "kernelspec": {
   "display_name": "Python 3 (ipykernel)",
   "language": "python",
   "name": "python3"
  },
  "language_info": {
   "codemirror_mode": {
    "name": "ipython",
    "version": 3
   },
   "file_extension": ".py",
   "mimetype": "text/x-python",
   "name": "python",
   "nbconvert_exporter": "python",
   "pygments_lexer": "ipython3",
   "version": "3.9.12"
  }
 },
 "nbformat": 4,
 "nbformat_minor": 5
}

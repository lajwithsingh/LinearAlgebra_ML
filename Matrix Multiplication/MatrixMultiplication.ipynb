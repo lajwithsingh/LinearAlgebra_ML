{
  "nbformat": 4,
  "nbformat_minor": 0,
  "metadata": {
    "colab": {
      "name": "MatrixMultiplication.ipynb",
      "provenance": []
    },
    "kernelspec": {
      "name": "python3",
      "display_name": "Python 3"
    },
    "language_info": {
      "name": "python"
    }
  },
  "cells": [
    {
      "cell_type": "code",
      "source": [
        "import numpy as np"
      ],
      "metadata": {
        "id": "PviNg5EmAP-8"
      },
      "execution_count": 2,
      "outputs": []
    },
    {
      "cell_type": "code",
      "execution_count": 3,
      "metadata": {
        "id": "WV67-8Av_sEg"
      },
      "outputs": [],
      "source": [
        "m = 4\n",
        "n = 3\n",
        "k = 6\n",
        "\n",
        "matrix1 = np.random.randn(m, n)\n",
        "matrix2 = np.random.randn(n, k)\n",
        "matirx3 = np.random.randn(m, k)"
      ]
    },
    {
      "cell_type": "code",
      "source": [
        "np.matmul(matrix1, matrix2)"
      ],
      "metadata": {
        "colab": {
          "base_uri": "https://localhost:8080/"
        },
        "id": "ZEiIikywAKtc",
        "outputId": "95532fd2-7b3a-4a1d-cdea-8e86f0c68016"
      },
      "execution_count": 4,
      "outputs": [
        {
          "output_type": "execute_result",
          "data": {
            "text/plain": [
              "array([[-1.51536911,  2.18509346, -3.48820648, -0.31242429,  0.97598108,\n",
              "        -1.06608162],\n",
              "       [ 0.75297916, -0.55404846,  4.17041799, -0.47018393,  1.10192706,\n",
              "         0.58458414],\n",
              "       [-0.59774565,  4.78197185,  0.39679946,  1.54020739,  4.53138907,\n",
              "         0.42725947],\n",
              "       [ 1.17962032, -1.0982441 ,  2.45057071,  0.70714081, -0.37282288,\n",
              "         0.97493681]])"
            ]
          },
          "metadata": {},
          "execution_count": 4
        }
      ]
    },
    {
      "cell_type": "code",
      "source": [
        "np.matmul(matrix1, matrix1.T)"
      ],
      "metadata": {
        "colab": {
          "base_uri": "https://localhost:8080/"
        },
        "id": "SgisVBsXAO9U",
        "outputId": "1403e8b0-9ec6-46c7-e744-d3e2bb259080"
      },
      "execution_count": 12,
      "outputs": [
        {
          "output_type": "execute_result",
          "data": {
            "text/plain": [
              "array([[ 5.89918926, -3.39105336,  3.81302278, -4.20189281],\n",
              "       [-3.39105336,  4.29052629,  0.29458826,  2.30748396],\n",
              "       [ 3.81302278,  0.29458826,  7.66174081, -2.35266374],\n",
              "       [-4.20189281,  2.30748396, -2.35266374,  3.08724246]])"
            ]
          },
          "metadata": {},
          "execution_count": 12
        }
      ]
    },
    {
      "cell_type": "code",
      "source": [
        "np.matmul(matrix2.T, matrix2)"
      ],
      "metadata": {
        "colab": {
          "base_uri": "https://localhost:8080/"
        },
        "id": "d1AWGYVpA_M0",
        "outputId": "471e9c73-9ee6-43c6-ca19-05bfca70c6a4"
      },
      "execution_count": 14,
      "outputs": [
        {
          "output_type": "execute_result",
          "data": {
            "text/plain": [
              "array([[ 0.49583584, -0.07614598,  0.85661842,  0.59554789,  0.08884491,\n",
              "         0.50268899],\n",
              "       [-0.07614598,  3.71326987, -0.28161907,  2.18594623,  3.05101196,\n",
              "         0.7732699 ],\n",
              "       [ 0.85661842, -0.28161907,  4.11356597, -0.08143223,  1.25466232,\n",
              "         0.76204388],\n",
              "       [ 0.59554789,  2.18594623, -0.08143223,  2.5108857 ,  1.5174918 ,\n",
              "         1.15490169],\n",
              "       [ 0.08884491,  3.05101196,  1.25466232,  1.5174918 ,  3.12474582,\n",
              "         0.76065515],\n",
              "       [ 0.50268899,  0.7732699 ,  0.76204388,  1.15490169,  0.76065515,\n",
              "         0.70700851]])"
            ]
          },
          "metadata": {},
          "execution_count": 14
        }
      ]
    },
    {
      "cell_type": "code",
      "source": [
        "matirx3@matrix2.T"
      ],
      "metadata": {
        "colab": {
          "base_uri": "https://localhost:8080/"
        },
        "id": "RO3FHmmfBJL4",
        "outputId": "08d8b552-e184-4c51-f5c4-7677d431f368"
      },
      "execution_count": 15,
      "outputs": [
        {
          "output_type": "execute_result",
          "data": {
            "text/plain": [
              "array([[-0.59094808, -2.16810366,  3.58195157],\n",
              "       [ 3.74505521, -2.52856339, -0.3576218 ],\n",
              "       [-1.4535276 ,  1.18194978,  1.09883489],\n",
              "       [ 0.64477502, -0.00735128, -0.09128662]])"
            ]
          },
          "metadata": {},
          "execution_count": 15
        }
      ]
    },
    {
      "cell_type": "code",
      "source": [
        "np.matmul(matirx3, matrix2.T)"
      ],
      "metadata": {
        "colab": {
          "base_uri": "https://localhost:8080/"
        },
        "id": "6ZgQeWgKBWzw",
        "outputId": "52e2f3da-62cf-4356-b684-194b842d4863"
      },
      "execution_count": 20,
      "outputs": [
        {
          "output_type": "execute_result",
          "data": {
            "text/plain": [
              "array([[-0.59094808, -2.16810366,  3.58195157],\n",
              "       [ 3.74505521, -2.52856339, -0.3576218 ],\n",
              "       [-1.4535276 ,  1.18194978,  1.09883489],\n",
              "       [ 0.64477502, -0.00735128, -0.09128662]])"
            ]
          },
          "metadata": {},
          "execution_count": 20
        }
      ]
    }
  ]
}
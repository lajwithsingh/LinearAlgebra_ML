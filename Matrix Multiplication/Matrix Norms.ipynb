{
 "cells": [
  {
   "cell_type": "markdown",
   "id": "fd267511",
   "metadata": {},
   "source": [
    "<h1>Matrix Norms</h1>"
   ]
  },
  {
   "cell_type": "code",
   "execution_count": 1,
   "id": "5cf91e82",
   "metadata": {},
   "outputs": [
    {
     "name": "stdout",
     "output_type": "stream",
     "text": [
      "16.431676725154983\n",
      "16.392007827749776\n",
      "17.818241836274783\n"
     ]
    }
   ],
   "source": [
    "import numpy as np\n",
    "import matplotlib.pyplot as plt\n",
    "\n",
    "#creating a matrix\n",
    "A = np.array([[1, 2, 3], [4, 5, 6], [7, 7 ,9]])\n",
    "\n",
    "#creating a orthogonal matrix\n",
    "Q, R = np.linalg.qr(np.random.randn(5, 5))\n",
    "\n",
    "#forbenius norm\n",
    "normForb = np.linalg.norm(A, 'fro')\n",
    "\n",
    "#Induced 2 norm\n",
    "normInd2 = np.linalg.norm(A, 2)\n",
    "lamb = np.sqrt(np.max(np.linalg.eig(A.T@A)[0]))\n",
    "\n",
    "#schatten p norm\n",
    "p = 1\n",
    "s = np.linalg.svd(A)[1]\n",
    "normSchat = np.sum(s**p)**(1/p)\n",
    "\n",
    "print(normForb)\n",
    "print(normInd2)\n",
    "print(normSchat)"
   ]
  },
  {
   "cell_type": "code",
   "execution_count": null,
   "id": "826ee3de",
   "metadata": {},
   "outputs": [],
   "source": []
  },
  {
   "cell_type": "code",
   "execution_count": null,
   "id": "7321f4b4",
   "metadata": {},
   "outputs": [],
   "source": []
  },
  {
   "cell_type": "code",
   "execution_count": null,
   "id": "92a174c6",
   "metadata": {},
   "outputs": [],
   "source": []
  },
  {
   "cell_type": "code",
   "execution_count": null,
   "id": "78ffb149",
   "metadata": {},
   "outputs": [],
   "source": []
  }
 ],
 "metadata": {
  "kernelspec": {
   "display_name": "Python 3 (ipykernel)",
   "language": "python",
   "name": "python3"
  },
  "language_info": {
   "codemirror_mode": {
    "name": "ipython",
    "version": 3
   },
   "file_extension": ".py",
   "mimetype": "text/x-python",
   "name": "python",
   "nbconvert_exporter": "python",
   "pygments_lexer": "ipython3",
   "version": "3.9.12"
  }
 },
 "nbformat": 4,
 "nbformat_minor": 5
}

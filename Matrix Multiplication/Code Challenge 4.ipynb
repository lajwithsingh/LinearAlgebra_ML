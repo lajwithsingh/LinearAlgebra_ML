{
 "cells": [
  {
   "cell_type": "markdown",
   "id": "252e37f8",
   "metadata": {},
   "source": [
    "<h1>Code Challenge 4</h1>"
   ]
  },
  {
   "cell_type": "code",
   "execution_count": 2,
   "id": "1f5f6382",
   "metadata": {},
   "outputs": [],
   "source": [
    "import numpy as np\n",
    "import matplotlib.pyplot as plt"
   ]
  },
  {
   "cell_type": "code",
   "execution_count": 8,
   "id": "48b098bb",
   "metadata": {},
   "outputs": [
    {
     "name": "stdout",
     "output_type": "stream",
     "text": [
      "[[  6   5   1  -8   3]\n",
      " [ -9   1  -8  -1   8]\n",
      " [ -2   5   9  -2  -7]\n",
      " [ -5   7 -10   5  -3]\n",
      " [ -6   0  -5  -3  -9]]\n",
      "[[-2 -2  1  7]\n",
      " [ 5  7  2  4]\n",
      " [ 1  1 -7  2]]\n",
      "[[-2 -8  5  4]\n",
      " [-2  9  3  9]\n",
      " [-7  2 -9  2]]\n"
     ]
    }
   ],
   "source": [
    "matrix1 = np.random.randint(-10, 10, (5, 5))\n",
    "print(matrix1)\n",
    "matrix2 = np.random.randint(-10, 10, (3, 4))\n",
    "print(matrix2)\n",
    "matrix3 = np.random.randint(-10, 10, (3,4))\n",
    "print(matrix3)"
   ]
  },
  {
   "cell_type": "code",
   "execution_count": 5,
   "id": "6527ed5d",
   "metadata": {},
   "outputs": [
    {
     "data": {
      "text/plain": [
       "array([[ -4,   6,  14,   1,  -5],\n",
       "       [  6,   4,  -4, -15,   7],\n",
       "       [ 14,  -4, -18,  -5,   3],\n",
       "       [  1, -15,  -5, -10,  -6],\n",
       "       [ -5,   7,   3,  -6,  -6]])"
      ]
     },
     "execution_count": 5,
     "metadata": {},
     "output_type": "execute_result"
    }
   ],
   "source": [
    "sym1 = matrix1 + matrix1.T\n",
    "sym1"
   ]
  },
  {
   "cell_type": "code",
   "execution_count": 7,
   "id": "93c060e3",
   "metadata": {},
   "outputs": [
    {
     "data": {
      "text/plain": [
       "array([[114, -21,  -1],\n",
       "       [-21, 122, -49],\n",
       "       [ -1, -49,  86]])"
      ]
     },
     "execution_count": 7,
     "metadata": {},
     "output_type": "execute_result"
    }
   ],
   "source": [
    "sym2 = matrix2@matrix2.T\n",
    "sym2"
   ]
  },
  {
   "cell_type": "code",
   "execution_count": 9,
   "id": "f1217ac6",
   "metadata": {},
   "outputs": [
    {
     "data": {
      "text/plain": [
       "array([[109, -17, -39],\n",
       "       [-17, 175,  23],\n",
       "       [-39,  23, 138]])"
      ]
     },
     "execution_count": 9,
     "metadata": {},
     "output_type": "execute_result"
    }
   ],
   "source": [
    "sym3 = matrix3@matrix3.T\n",
    "sym3"
   ]
  },
  {
   "cell_type": "code",
   "execution_count": 10,
   "id": "63d2e5ec",
   "metadata": {},
   "outputs": [
    {
     "data": {
      "text/plain": [
       "array([[223, -38, -40],\n",
       "       [-38, 297, -26],\n",
       "       [-40, -26, 224]])"
      ]
     },
     "execution_count": 10,
     "metadata": {},
     "output_type": "execute_result"
    }
   ],
   "source": [
    "#sum of symmetric matrices\n",
    "sym2 + sym3"
   ]
  },
  {
   "cell_type": "code",
   "execution_count": 11,
   "id": "e80e000c",
   "metadata": {},
   "outputs": [
    {
     "data": {
      "text/plain": [
       "array([[12822, -5636, -5067],\n",
       "       [-2452, 20580, -3137],\n",
       "       [-2630, -6580, 10780]])"
      ]
     },
     "execution_count": 11,
     "metadata": {},
     "output_type": "execute_result"
    }
   ],
   "source": [
    "#matrix multiplication\n",
    "sym2@sym3"
   ]
  },
  {
   "cell_type": "code",
   "execution_count": 12,
   "id": "3285a4fc",
   "metadata": {},
   "outputs": [
    {
     "data": {
      "text/plain": [
       "array([[12426,   357,    39],\n",
       "       [  357, 21350, -1127],\n",
       "       [   39, -1127, 11868]])"
      ]
     },
     "execution_count": 12,
     "metadata": {},
     "output_type": "execute_result"
    }
   ],
   "source": [
    "#hadmard multiplication\n",
    "sym2*sym3"
   ]
  },
  {
   "cell_type": "markdown",
   "id": "fbd2753e",
   "metadata": {},
   "source": [
    "**Sum of Two Symmteric Matirces Results into a Symmteric matrix**<br>\n",
    "**Hadmarad Multiplication of Two Symmteric Matrices Output a Symmteric Matrix**<br>\n",
    "**Multiplication of Two Symmteric Matrix does not result into a Symmteric Matrix**"
   ]
  }
 ],
 "metadata": {
  "kernelspec": {
   "display_name": "Python 3 (ipykernel)",
   "language": "python",
   "name": "python3"
  },
  "language_info": {
   "codemirror_mode": {
    "name": "ipython",
    "version": 3
   },
   "file_extension": ".py",
   "mimetype": "text/x-python",
   "name": "python",
   "nbconvert_exporter": "python",
   "pygments_lexer": "ipython3",
   "version": "3.9.12"
  }
 },
 "nbformat": 4,
 "nbformat_minor": 5
}

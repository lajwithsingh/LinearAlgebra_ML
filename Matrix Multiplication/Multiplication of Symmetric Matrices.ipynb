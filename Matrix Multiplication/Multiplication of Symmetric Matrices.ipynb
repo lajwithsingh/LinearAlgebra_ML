{
 "cells": [
  {
   "cell_type": "markdown",
   "id": "ae16332d",
   "metadata": {},
   "source": [
    "<h1> Multiplication of Symmetric Matrices</h1>"
   ]
  },
  {
   "cell_type": "code",
   "execution_count": 1,
   "id": "c5595ccb",
   "metadata": {},
   "outputs": [],
   "source": [
    "import numpy as np\n",
    "import matplotlib.pyplot as plt"
   ]
  },
  {
   "cell_type": "code",
   "execution_count": 2,
   "id": "9e919ac3",
   "metadata": {},
   "outputs": [
    {
     "data": {
      "text/plain": [
       "array([[14,  9,  7,  9, 16, -1,  2,  5,  4, 15],\n",
       "       [ 9, 14, 23, 28, -2, 16, 24, 15, 11,  4],\n",
       "       [ 7, 23, 14, 26, 30, 17, 21, 27, 15,  3],\n",
       "       [ 9, 28, 26, 14, 21, 14, -1, 20,  3,  7],\n",
       "       [16, -2, 30, 21, 14, 15, 19,  4, 15, 11],\n",
       "       [-1, 16, 17, 14, 15, 14,  6, 17, 16, 27],\n",
       "       [ 2, 24, 21, -1, 19,  6, 14, 17, 14, 21],\n",
       "       [ 5, 15, 27, 20,  4, 17, 17, 14, 25, 15],\n",
       "       [ 4, 11, 15,  3, 15, 16, 14, 25, 14, 29],\n",
       "       [15,  4,  3,  7, 11, 27, 21, 15, 29, 14]])"
      ]
     },
     "execution_count": 2,
     "metadata": {},
     "output_type": "execute_result"
    }
   ],
   "source": [
    "DiagSame = np.eye(10,dtype = np.int32)\n",
    "DiagSame = (DiagSame - 1)*-1\n",
    "\n",
    "matrix1 = DiagSame * np.random.randint(-10, 10 , (10, 10)) + 7\n",
    "matrix1 = matrix1 + matrix1.T\n",
    "matrix1"
   ]
  },
  {
   "cell_type": "code",
   "execution_count": 3,
   "id": "28e96745",
   "metadata": {},
   "outputs": [],
   "source": [
    "DiagSame2 = np.eye(10,dtype = np.int32)\n",
    "DiagSame2 = (DiagSame2 - 1)*-1\n",
    "\n",
    "matrix2 = DiagSame2 * np.random.randint(-10, 10 , (10, 10)) + 5\n",
    "matrix2 = matrix2 + matrix2.T"
   ]
  },
  {
   "cell_type": "code",
   "execution_count": 4,
   "id": "5deb38cf",
   "metadata": {},
   "outputs": [
    {
     "data": {
      "text/plain": [
       "array([[10,  7, -6, 23,  0, 17,  8, 13, 12,  3],\n",
       "       [ 7, 10, 11, 10,  4, 13, 17, 24,  8, 13],\n",
       "       [-6, 11, 10, 14,  9, -1,  7, 15,  3,  5],\n",
       "       [23, 10, 14, 10, 10,  4, -2, -3, 11,  6],\n",
       "       [ 0,  4,  9, 10, 10,  5, 15,  2,  3, 12],\n",
       "       [17, 13, -1,  4,  5, 10, 13, 16,  5,  7],\n",
       "       [ 8, 17,  7, -2, 15, 13, 10,  5,  3,  5],\n",
       "       [13, 24, 15, -3,  2, 16,  5, 10, -6, -1],\n",
       "       [12,  8,  3, 11,  3,  5,  3, -6, 10, 10],\n",
       "       [ 3, 13,  5,  6, 12,  7,  5, -1, 10, 10]])"
      ]
     },
     "execution_count": 4,
     "metadata": {},
     "output_type": "execute_result"
    }
   ],
   "source": [
    "matrix2 "
   ]
  },
  {
   "cell_type": "code",
   "execution_count": 5,
   "id": "1cc63de0",
   "metadata": {},
   "outputs": [
    {
     "data": {
      "text/plain": [
       "array([[ 525,  787,  532,  871,  576,  685,  655,  513,  569,  628],\n",
       "       [1497, 1844, 1134, 1045, 1074, 1209,  961, 1166,  803,  835],\n",
       "       [1742, 2198, 1580, 1275, 1313, 1629, 1569, 1389,  852, 1283],\n",
       "       [ 999, 1613, 1222, 1274,  884, 1163, 1333, 1573,  674, 1030],\n",
       "       [1121, 1565,  880, 1359, 1157,  983,  977,  849,  907,  922],\n",
       "       [1102, 1711, 1149,  996, 1073, 1064, 1090,  915,  782, 1095],\n",
       "       [ 705, 1660, 1113,  985, 1033, 1147, 1308, 1189,  645, 1090],\n",
       "       [1405, 1939, 1183, 1240, 1166, 1198, 1115, 1110,  945, 1103],\n",
       "       [1060, 1928, 1068,  881, 1089, 1298, 1203, 1025,  661, 1015],\n",
       "       [1533, 1774,  683, 1031,  958, 1413, 1153,  836,  869,  995]])"
      ]
     },
     "execution_count": 5,
     "metadata": {},
     "output_type": "execute_result"
    }
   ],
   "source": [
    "matrix1@matrix2"
   ]
  },
  {
   "cell_type": "code",
   "execution_count": 9,
   "id": "9a824be2",
   "metadata": {},
   "outputs": [
    {
     "data": {
      "text/plain": [
       "(10, 10)"
      ]
     },
     "execution_count": 9,
     "metadata": {},
     "output_type": "execute_result"
    }
   ],
   "source": [
    "matrix1.shape"
   ]
  },
  {
   "cell_type": "code",
   "execution_count": 8,
   "id": "ba807acd",
   "metadata": {},
   "outputs": [
    {
     "data": {
      "text/plain": [
       "(10, 10)"
      ]
     },
     "execution_count": 8,
     "metadata": {},
     "output_type": "execute_result"
    }
   ],
   "source": [
    "matrix2.shape"
   ]
  }
 ],
 "metadata": {
  "kernelspec": {
   "display_name": "Python 3 (ipykernel)",
   "language": "python",
   "name": "python3"
  },
  "language_info": {
   "codemirror_mode": {
    "name": "ipython",
    "version": 3
   },
   "file_extension": ".py",
   "mimetype": "text/x-python",
   "name": "python",
   "nbconvert_exporter": "python",
   "pygments_lexer": "ipython3",
   "version": "3.9.12"
  }
 },
 "nbformat": 4,
 "nbformat_minor": 5
}

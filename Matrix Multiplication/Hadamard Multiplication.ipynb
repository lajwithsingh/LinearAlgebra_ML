{
 "cells": [
  {
   "cell_type": "markdown",
   "id": "26932a53",
   "metadata": {},
   "source": [
    "<h1>Hadamard Multiplication</h1>"
   ]
  },
  {
   "cell_type": "code",
   "execution_count": 1,
   "id": "94fbd11f",
   "metadata": {},
   "outputs": [],
   "source": [
    "import numpy as np\n",
    "import matplotlib.pyplot as plt\n",
    "import seaborn as sns"
   ]
  },
  {
   "cell_type": "code",
   "execution_count": 2,
   "id": "37aa933e",
   "metadata": {},
   "outputs": [
    {
     "name": "stdout",
     "output_type": "stream",
     "text": [
      "Method 1\n",
      "\n",
      "\n",
      "[[ 0.17824753 -0.98822419]\n",
      " [-0.03434408  0.03724891]\n",
      " [ 0.17121489  0.11535352]\n",
      " [-0.77030193 -0.09977901]\n",
      " [ 1.21897985 -0.04383104]\n",
      " [-0.2314523   0.1996341 ]\n",
      " [ 2.07163011 -0.10623699]\n",
      " [ 0.62173229  0.13050271]\n",
      " [-0.11385558  0.57319958]\n",
      " [-1.47876335  0.28446607]\n",
      " [ 0.01637134  0.75426269]\n",
      " [-0.13535785 -0.18737046]\n",
      " [ 0.48215428 -0.77619717]]\n",
      "Method 2\n",
      "\n",
      "\n",
      "[[ 0.17824753 -0.98822419]\n",
      " [-0.03434408  0.03724891]\n",
      " [ 0.17121489  0.11535352]\n",
      " [-0.77030193 -0.09977901]\n",
      " [ 1.21897985 -0.04383104]\n",
      " [-0.2314523   0.1996341 ]\n",
      " [ 2.07163011 -0.10623699]\n",
      " [ 0.62173229  0.13050271]\n",
      " [-0.11385558  0.57319958]\n",
      " [-1.47876335  0.28446607]\n",
      " [ 0.01637134  0.75426269]\n",
      " [-0.13535785 -0.18737046]\n",
      " [ 0.48215428 -0.77619717]]\n"
     ]
    }
   ],
   "source": [
    "#Any Matrix Sizes\n",
    "m = 13\n",
    "n = 2\n",
    "\n",
    "#but .. two matrices must b of the same size\n",
    "A = np.random.randn(m, n)\n",
    "B = np.random.randn(m, n)\n",
    "\n",
    "#method 1\n",
    "print(\"Method 1\\n\\n\")\n",
    "print(A*B)\n",
    "\n",
    "#method 2\n",
    "\n",
    "print(\"Method 2\\n\\n\")\n",
    "print(np.multiply(A, B))"
   ]
  },
  {
   "cell_type": "code",
   "execution_count": 7,
   "id": "2adc4a59",
   "metadata": {},
   "outputs": [
    {
     "data": {
      "text/plain": [
       "True"
      ]
     },
     "execution_count": 7,
     "metadata": {},
     "output_type": "execute_result"
    }
   ],
   "source": [
    "((A*B) == np.multiply(A,B)).any()"
   ]
  },
  {
   "cell_type": "code",
   "execution_count": null,
   "id": "0257355a",
   "metadata": {},
   "outputs": [],
   "source": []
  }
 ],
 "metadata": {
  "kernelspec": {
   "display_name": "Python 3 (ipykernel)",
   "language": "python",
   "name": "python3"
  },
  "language_info": {
   "codemirror_mode": {
    "name": "ipython",
    "version": 3
   },
   "file_extension": ".py",
   "mimetype": "text/x-python",
   "name": "python",
   "nbconvert_exporter": "python",
   "pygments_lexer": "ipython3",
   "version": "3.9.12"
  }
 },
 "nbformat": 4,
 "nbformat_minor": 5
}

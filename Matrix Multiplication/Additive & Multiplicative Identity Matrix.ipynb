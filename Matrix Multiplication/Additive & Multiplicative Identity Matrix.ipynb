{
 "cells": [
  {
   "cell_type": "markdown",
   "id": "8ca07c7c",
   "metadata": {},
   "source": [
    "<h1>Additive and Mutliplicative Matrix Identities</h1>"
   ]
  },
  {
   "cell_type": "code",
   "execution_count": 1,
   "id": "1cef6de9",
   "metadata": {},
   "outputs": [],
   "source": [
    "import numpy as np\n",
    "import matplotlib.pyplot as plt"
   ]
  },
  {
   "cell_type": "code",
   "execution_count": 3,
   "id": "a8b46de0",
   "metadata": {},
   "outputs": [],
   "source": [
    "#matrix size\n",
    "n = 4\n",
    "\n",
    "#creating the matrix\n",
    "A = np.round(10 * np.random.randn(n,n))\n",
    "I = np.eye(n)\n",
    "Z = np.zeros((n,n))"
   ]
  },
  {
   "cell_type": "code",
   "execution_count": 4,
   "id": "c456e205",
   "metadata": {},
   "outputs": [
    {
     "data": {
      "text/plain": [
       "True"
      ]
     },
     "execution_count": 4,
     "metadata": {},
     "output_type": "execute_result"
    }
   ],
   "source": [
    "np.array_equal(A, A@I)"
   ]
  },
  {
   "cell_type": "code",
   "execution_count": 5,
   "id": "3dc47f14",
   "metadata": {},
   "outputs": [
    {
     "data": {
      "text/plain": [
       "True"
      ]
     },
     "execution_count": 5,
     "metadata": {},
     "output_type": "execute_result"
    }
   ],
   "source": [
    "np.array_equal(A@I, A)"
   ]
  },
  {
   "cell_type": "code",
   "execution_count": 6,
   "id": "c0f8d056",
   "metadata": {},
   "outputs": [
    {
     "data": {
      "text/plain": [
       "False"
      ]
     },
     "execution_count": 6,
     "metadata": {},
     "output_type": "execute_result"
    }
   ],
   "source": [
    "np.array_equal(A, A+I)"
   ]
  },
  {
   "cell_type": "code",
   "execution_count": 8,
   "id": "67c8b9cd",
   "metadata": {},
   "outputs": [
    {
     "data": {
      "text/plain": [
       "True"
      ]
     },
     "execution_count": 8,
     "metadata": {},
     "output_type": "execute_result"
    }
   ],
   "source": [
    "np.array_equal(A, A+Z)"
   ]
  },
  {
   "cell_type": "code",
   "execution_count": 10,
   "id": "89b35143",
   "metadata": {},
   "outputs": [
    {
     "data": {
      "text/plain": [
       "True"
      ]
     },
     "execution_count": 10,
     "metadata": {},
     "output_type": "execute_result"
    }
   ],
   "source": [
    "np.array_equal(A+Z, A)"
   ]
  },
  {
   "cell_type": "code",
   "execution_count": 12,
   "id": "99340ac9",
   "metadata": {},
   "outputs": [
    {
     "data": {
      "text/plain": [
       "True"
      ]
     },
     "execution_count": 12,
     "metadata": {},
     "output_type": "execute_result"
    }
   ],
   "source": [
    "np.array_equal(A+Z,A@I)"
   ]
  }
 ],
 "metadata": {
  "kernelspec": {
   "display_name": "Python 3 (ipykernel)",
   "language": "python",
   "name": "python3"
  },
  "language_info": {
   "codemirror_mode": {
    "name": "ipython",
    "version": 3
   },
   "file_extension": ".py",
   "mimetype": "text/x-python",
   "name": "python",
   "nbconvert_exporter": "python",
   "pygments_lexer": "ipython3",
   "version": "3.9.12"
  }
 },
 "nbformat": 4,
 "nbformat_minor": 5
}

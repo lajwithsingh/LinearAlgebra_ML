{
 "cells": [
  {
   "cell_type": "markdown",
   "id": "6fc5fb11",
   "metadata": {},
   "source": [
    "<h1>Vector Matrix Multiplication</h1>"
   ]
  },
  {
   "cell_type": "code",
   "execution_count": 1,
   "id": "3b0dc08c",
   "metadata": {},
   "outputs": [],
   "source": [
    "import numpy as np"
   ]
  },
  {
   "cell_type": "markdown",
   "id": "9f87e48a",
   "metadata": {},
   "source": [
    "Matrix N"
   ]
  },
  {
   "cell_type": "code",
   "execution_count": 4,
   "id": "205c677b",
   "metadata": {},
   "outputs": [
    {
     "data": {
      "text/plain": [
       "array([[-10,  -8,   5,  -4],\n",
       "       [ -4,  -7,  -5,  -9],\n",
       "       [  4,  -1,  -3,   8],\n",
       "       [ -9,  -7,   5,  -4]])"
      ]
     },
     "execution_count": 4,
     "metadata": {},
     "output_type": "execute_result"
    }
   ],
   "source": [
    "m = 4\n",
    "N = np.random.randint(-10, 10, (m,m))\n",
    "N"
   ]
  },
  {
   "cell_type": "markdown",
   "id": "6bd4d48c",
   "metadata": {},
   "source": [
    "Matrix S : Scaled Symmetric Matrix"
   ]
  },
  {
   "cell_type": "code",
   "execution_count": 5,
   "id": "6aadd0a0",
   "metadata": {},
   "outputs": [
    {
     "data": {
      "text/plain": [
       "array([[13.,  7., -5., 12.],\n",
       "       [ 7., 11., -4.,  6.],\n",
       "       [-5., -4.,  6., -5.],\n",
       "       [12.,  6., -5., 11.]])"
      ]
     },
     "execution_count": 5,
     "metadata": {},
     "output_type": "execute_result"
    }
   ],
   "source": [
    "S = np.round(N@N.T / m**2)\n",
    "S"
   ]
  },
  {
   "cell_type": "code",
   "execution_count": 6,
   "id": "60e58159",
   "metadata": {},
   "outputs": [
    {
     "data": {
      "text/plain": [
       "array([[100,  32,  20,  36],\n",
       "       [ 32,  49,   5,  63],\n",
       "       [ 20,   5,   9,  40],\n",
       "       [ 36,  63,  40,  16]])"
      ]
     },
     "execution_count": 6,
     "metadata": {},
     "output_type": "execute_result"
    }
   ],
   "source": [
    "N*N.T"
   ]
  },
  {
   "cell_type": "markdown",
   "id": "d0f40c97",
   "metadata": {},
   "source": [
    "vector m"
   ]
  },
  {
   "cell_type": "code",
   "execution_count": 17,
   "id": "a6fc61a9",
   "metadata": {},
   "outputs": [],
   "source": [
    "w = np.array([-1, 0, 1, 2])"
   ]
  },
  {
   "cell_type": "code",
   "execution_count": 18,
   "id": "3af4f29c",
   "metadata": {},
   "outputs": [
    {
     "data": {
      "text/plain": [
       "array([-1,  0,  1,  2])"
      ]
     },
     "execution_count": 18,
     "metadata": {},
     "output_type": "execute_result"
    }
   ],
   "source": [
    "w"
   ]
  },
  {
   "cell_type": "markdown",
   "id": "20a4044d",
   "metadata": {},
   "source": [
    "Multiplication of matrix with vector where matrix is not symmetric"
   ]
  },
  {
   "cell_type": "code",
   "execution_count": 19,
   "id": "4b6b5e43",
   "metadata": {},
   "outputs": [
    {
     "name": "stdout",
     "output_type": "stream",
     "text": [
      "[  7 -19   9   6]\n",
      "\n",
      "\n",
      "\n",
      "[-4 -7  2  4]\n",
      "\n",
      "\n",
      "\n",
      "[-4 -7  2  4]\n",
      "\n",
      "\n",
      "\n",
      "[  7 -19   9   6]\n",
      "\n",
      "\n",
      "\n",
      "[-4 -7  2  4]\n"
     ]
    }
   ],
   "source": [
    "print(N@w)\n",
    "print(\"\\n\\n\")\n",
    "print(N.T@w)\n",
    "print(\"\\n\\n\")\n",
    "print(w@N)\n",
    "print(\"\\n\\n\")\n",
    "print(w.T@N.T)\n",
    "print(\"\\n\\n\")\n",
    "print(w.T@N)"
   ]
  },
  {
   "cell_type": "markdown",
   "id": "bc4e39ac",
   "metadata": {},
   "source": [
    "Multiplication of matrix with vector where matrix is symmetric"
   ]
  },
  {
   "cell_type": "code",
   "execution_count": 22,
   "id": "4b58a3f7",
   "metadata": {},
   "outputs": [
    {
     "name": "stdout",
     "output_type": "stream",
     "text": [
      "[6. 1. 1. 5.]\n",
      "\n",
      "\n",
      "\n",
      "[6. 1. 1. 5.]\n",
      "\n",
      "\n",
      "\n",
      "[6. 1. 1. 5.]\n",
      "\n",
      "\n",
      "\n",
      "[6. 1. 1. 5.]\n",
      "\n",
      "\n",
      "\n",
      "[6. 1. 1. 5.]\n"
     ]
    }
   ],
   "source": [
    "print(S@w)\n",
    "print(\"\\n\\n\")\n",
    "print(S.T@w)\n",
    "print(\"\\n\\n\")\n",
    "print(w@S)\n",
    "print(\"\\n\\n\")\n",
    "print(w.T@S.T)\n",
    "print(\"\\n\\n\")\n",
    "print(w.T@S)"
   ]
  },
  {
   "cell_type": "code",
   "execution_count": 25,
   "id": "d8803230",
   "metadata": {},
   "outputs": [
    {
     "data": {
      "text/plain": [
       "matrix([[3.],\n",
       "        [4.]])"
      ]
     },
     "execution_count": 25,
     "metadata": {},
     "output_type": "execute_result"
    }
   ],
   "source": [
    "np.linalg.inv(np.matrix([[2, 4], [2, 1]])) * np.matrix([22, 10]).T"
   ]
  },
  {
   "cell_type": "code",
   "execution_count": null,
   "id": "e53e390c",
   "metadata": {},
   "outputs": [],
   "source": []
  }
 ],
 "metadata": {
  "kernelspec": {
   "display_name": "Python 3 (ipykernel)",
   "language": "python",
   "name": "python3"
  },
  "language_info": {
   "codemirror_mode": {
    "name": "ipython",
    "version": 3
   },
   "file_extension": ".py",
   "mimetype": "text/x-python",
   "name": "python",
   "nbconvert_exporter": "python",
   "pygments_lexer": "ipython3",
   "version": "3.9.12"
  }
 },
 "nbformat": 4,
 "nbformat_minor": 5
}

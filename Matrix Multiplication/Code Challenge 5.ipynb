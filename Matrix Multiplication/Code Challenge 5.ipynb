{
 "cells": [
  {
   "cell_type": "markdown",
   "id": "3b5d018f",
   "metadata": {},
   "source": [
    "<h1>Code Challenge 5</h1>"
   ]
  },
  {
   "cell_type": "code",
   "execution_count": 4,
   "id": "4bba2bd9",
   "metadata": {},
   "outputs": [],
   "source": [
    "import numpy as np\n",
    "import matplotlib.pyplot as plt"
   ]
  },
  {
   "cell_type": "code",
   "execution_count": 14,
   "id": "f9cee496",
   "metadata": {},
   "outputs": [
    {
     "data": {
      "text/plain": [
       "array([[1, 4, 2, 6],\n",
       "       [6, 6, 5, 7],\n",
       "       [2, 7, 7, 1],\n",
       "       [6, 5, 3, 4]])"
      ]
     },
     "execution_count": 14,
     "metadata": {},
     "output_type": "execute_result"
    }
   ],
   "source": [
    "matrix1 = np.random.randint(1, 8, (4, 4))\n",
    "matrix2 = np.eye(4)\n",
    "\n",
    "matrix1"
   ]
  },
  {
   "cell_type": "code",
   "execution_count": 15,
   "id": "3fffd360",
   "metadata": {},
   "outputs": [
    {
     "data": {
      "text/plain": [
       "array([[12., -0.,  0., -0.],\n",
       "       [ 0., 13., -0., -0.],\n",
       "       [ 0.,  0.,  7., -0.],\n",
       "       [-0.,  0., -0., 13.]])"
      ]
     },
     "execution_count": 15,
     "metadata": {},
     "output_type": "execute_result"
    }
   ],
   "source": [
    "matrix2 = matrix2 * np.random.randint(-10, 15, (4, 4))\n",
    "matrix2"
   ]
  },
  {
   "cell_type": "code",
   "execution_count": 16,
   "id": "55ef376f",
   "metadata": {},
   "outputs": [
    {
     "data": {
      "text/plain": [
       "array([[ 65,  72,  54,  60],\n",
       "       [ 94, 130,  98, 111],\n",
       "       [ 64, 104,  91,  72],\n",
       "       [ 66,  95,  70,  90]])"
      ]
     },
     "execution_count": 16,
     "metadata": {},
     "output_type": "execute_result"
    }
   ],
   "source": [
    "#Matrix Multiplication of Matrix 1\n",
    "\n",
    "matrix1@matrix1"
   ]
  },
  {
   "cell_type": "code",
   "execution_count": 17,
   "id": "83ff836a",
   "metadata": {},
   "outputs": [
    {
     "data": {
      "text/plain": [
       "array([[ 1, 16,  4, 36],\n",
       "       [36, 36, 25, 49],\n",
       "       [ 4, 49, 49,  1],\n",
       "       [36, 25,  9, 16]])"
      ]
     },
     "execution_count": 17,
     "metadata": {},
     "output_type": "execute_result"
    }
   ],
   "source": [
    "#Hadmarad Multiplication of Matrix1\n",
    "\n",
    "matrix1*matrix1"
   ]
  },
  {
   "cell_type": "code",
   "execution_count": 18,
   "id": "1a8cd0b2",
   "metadata": {},
   "outputs": [
    {
     "data": {
      "text/plain": [
       "array([[144.,   0.,   0.,   0.],\n",
       "       [  0., 169.,   0.,   0.],\n",
       "       [  0.,   0.,  49.,   0.],\n",
       "       [  0.,   0.,   0., 169.]])"
      ]
     },
     "execution_count": 18,
     "metadata": {},
     "output_type": "execute_result"
    }
   ],
   "source": [
    "#Matrix Multiplication of Matrix 2\n",
    "\n",
    "matrix2@matrix2"
   ]
  },
  {
   "cell_type": "code",
   "execution_count": 19,
   "id": "47efd93d",
   "metadata": {},
   "outputs": [
    {
     "data": {
      "text/plain": [
       "array([[144.,   0.,   0.,   0.],\n",
       "       [  0., 169.,   0.,   0.],\n",
       "       [  0.,   0.,  49.,   0.],\n",
       "       [  0.,   0.,   0., 169.]])"
      ]
     },
     "execution_count": 19,
     "metadata": {},
     "output_type": "execute_result"
    }
   ],
   "source": [
    "#Hadmarad Multiplication of Matrix 2\n",
    "\n",
    "matrix2*matrix2"
   ]
  }
 ],
 "metadata": {
  "kernelspec": {
   "display_name": "Python 3 (ipykernel)",
   "language": "python",
   "name": "python3"
  },
  "language_info": {
   "codemirror_mode": {
    "name": "ipython",
    "version": 3
   },
   "file_extension": ".py",
   "mimetype": "text/x-python",
   "name": "python",
   "nbconvert_exporter": "python",
   "pygments_lexer": "ipython3",
   "version": "3.9.12"
  }
 },
 "nbformat": 4,
 "nbformat_minor": 5
}
